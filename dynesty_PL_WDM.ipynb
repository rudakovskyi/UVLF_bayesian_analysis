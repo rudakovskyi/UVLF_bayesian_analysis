{
 "cells": [
  {
   "cell_type": "code",
   "execution_count": 1,
   "metadata": {},
   "outputs": [],
   "source": [
    "from multiprocessing import Pool\n",
    "import dynesty\n",
    "import uvlfmc"
   ]
  },
  {
   "cell_type": "code",
   "execution_count": 2,
   "metadata": {},
   "outputs": [],
   "source": [
    "processes = 2\n",
    "nlive = 500\n",
    "\n",
    "DM = 'WDM'\n",
    "fs_model = 'PL'\n",
    "f_z_dep = False\n",
    "dataset_name = 'B'\n",
    "z_arr = [6]\n",
    "\n",
    "priors = {\n",
    "    'log10_ks': (-2., 1.),\n",
    "    'a_s1': (-1., 1.),\n",
    "    'log10_M_t': (8., 10.),\n",
    "    'mx': (0.5, 10.),\n",
    "}"
   ]
  },
  {
   "cell_type": "code",
   "execution_count": 3,
   "metadata": {},
   "outputs": [],
   "source": [
    "LF_data=uvlfmc.dataset(dataset_name,z_arr)\n",
    "\n",
    "likecls = uvlfmc.Distrib(LF_data, DM, fs_model, f_z_dep, priors)\n",
    "lnlike = likecls.lnlike\n",
    "ptform = likecls.ptform"
   ]
  },
  {
   "cell_type": "code",
   "execution_count": 4,
   "metadata": {},
   "outputs": [],
   "source": [
    "ndim = len(priors)"
   ]
  },
  {
   "cell_type": "code",
   "execution_count": null,
   "metadata": {},
   "outputs": [],
   "source": [
    "with Pool(processes=processes) as pool:\n",
    "    dsampler = dynesty.DynamicNestedSampler(lnlike, ptform, ndim, pool=pool, queue_size=processes,nlive=nlive)\n",
    "    dsampler.run_nested(print_progress=True)\n",
    "dresults = dsampler.results"
   ]
  }
 ],
 "metadata": {
  "kernelspec": {
   "display_name": "Python [conda env:dynesty]",
   "language": "python",
   "name": "conda-env-dynesty-py"
  },
  "language_info": {
   "codemirror_mode": {
    "name": "ipython",
    "version": 3
   },
   "file_extension": ".py",
   "mimetype": "text/x-python",
   "name": "python",
   "nbconvert_exporter": "python",
   "pygments_lexer": "ipython3",
   "version": "3.8.5"
  }
 },
 "nbformat": 4,
 "nbformat_minor": 4
}
