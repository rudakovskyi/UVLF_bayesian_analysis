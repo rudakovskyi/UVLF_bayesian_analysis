{
 "cells": [
  {
   "cell_type": "code",
   "execution_count": null,
   "metadata": {},
   "outputs": [],
   "source": []
  },
  {
   "cell_type": "code",
   "execution_count": 1,
   "metadata": {},
   "outputs": [],
   "source": [
    "import numpy as np\n",
    "import scipy.optimize as op\n",
    "import pandas as pd\n",
    "import os\n",
    "import glob\n",
    "from multiprocessing import Pool\n",
    "\n",
    "import dynesty\n",
    "import pickle\n",
    "import uvlf"
   ]
  },
  {
   "cell_type": "code",
   "execution_count": 14,
   "metadata": {},
   "outputs": [],
   "source": [
    "processes,nlive=8,8000\n",
    "\n",
    "DM='WDM'\n",
    "fs_model='PL'\n",
    "dataset_name='B'\n",
    "z_arr=[6,7,8]\n",
    "\n",
    "#priors:\n",
    "log10_ks_p1=-2.\n",
    "log10_ks_p2=1.\n",
    "\n",
    "a_s1_p1=-1.\n",
    "a_s1_p2=1.\n",
    "\n",
    "a_s2_p1=-1.\n",
    "a_s2_p2=1.\n",
    "\n",
    "\n",
    "log10_M_с_p1=8.\n",
    "log10_M_с_p2=10\n",
    "\n",
    "log10_M_t_p1=8.\n",
    "log10_M_t_p2=10\n",
    "\n",
    "mx_p1=0.5\n",
    "mx_p2=10."
   ]
  },
  {
   "cell_type": "code",
   "execution_count": 7,
   "metadata": {},
   "outputs": [],
   "source": [
    "ind=1\n",
    "if fs_model=='DPLM':\n",
    "    ind=-1\n",
    "    \n",
    "\n",
    "ndim=3\n",
    "if DM=='WDM':\n",
    "    ndim+=1\n",
    "if 'DPL' in fs_model:\n",
    "    ndim+=2\n"
   ]
  },
  {
   "cell_type": "code",
   "execution_count": null,
   "metadata": {},
   "outputs": [],
   "source": []
  },
  {
   "cell_type": "code",
   "execution_count": 10,
   "metadata": {},
   "outputs": [],
   "source": [
    "LF_data=uvlf.dataset(dataset_name,z_arr)\n",
    "\n",
    "const=0\n",
    "for z,lf in LF_data.items():\n",
    "        x=lf[0]\n",
    "        y=lf[1]\n",
    "        yerr_down=lf[3]\n",
    "        yerr_up=lf[2]\n",
    "        const+=-0.5*len(y)*np.log((np.pi/2))-sum(np.log(yerr_down+yerr_up))\n"
   ]
  },
  {
   "cell_type": "code",
   "execution_count": 11,
   "metadata": {},
   "outputs": [],
   "source": [
    "def chi2(y_pred,y, yerr_up, yerr_down):\n",
    "        \n",
    "    return np.sum(np.heaviside(y_pred-y,0)*((y_pred-y)/yerr_up)**2+np.heaviside(y-y_pred,0)*((y_pred-y)/yerr_down)**2)\n",
    "\n",
    "def lnlike(theta):\n",
    "        \n",
    "    log10_ks,a_s1,log10_M_t,mx = theta\n",
    "    M_t=10**log10_M_t\n",
    "    ks=10**log10_ks\n",
    "    chi2_sum=0\n",
    "    for z,lf in LF_data.items():\n",
    "        x=lf[0]\n",
    "        y=lf[1]\n",
    "        yerr_down=lf[3]\n",
    "        yerr_up=lf[2]\n",
    "        \n",
    "        \n",
    "        \n",
    "        M_UV_Model, phi_Model = uvlf.compute_LF(z=z, ks=ks,a_s1=a_s1, a_s2=a_s1, M_t=M_t, DM=DM, mx=mx, ind=ind)\n",
    "    \n",
    "        y_pred = np.interp( x, M_UV_Model[::-1], np.log10(phi_Model)[::-1] )\n",
    "#        print(chi2(y_interp,y,yerr_up,yerr_down))\n",
    "        chi2_sum+=chi2(y_pred,y,yerr_up,yerr_down)\n",
    "        \n",
    "    return -0.5*chi2_sum+const"
   ]
  },
  {
   "cell_type": "code",
   "execution_count": 12,
   "metadata": {},
   "outputs": [],
   "source": [
    "def ptform(u):\n",
    "    x=np.array(u)\n",
    "    x[0]=u[0]*(log10_ks_p2-log10_ks_p1)+log10_ks_p1\n",
    "    x[1]=u[1]*(a_s1_p2-a_s1_p1)+a_s1_p1\n",
    "\n",
    "    x[2]=u[2]*(log10_M_t_p2-log10_M_t_p1)+log10_M_t_p1\n",
    "    \n",
    "    x[3]=u[3]*(mx_p2-mx_p1)+mx_p1\n",
    "    return x"
   ]
  },
  {
   "cell_type": "code",
   "execution_count": null,
   "metadata": {},
   "outputs": [
    {
     "name": "stderr",
     "output_type": "stream",
     "text": [
      "1132it [17:01,  3.35s/it, batch: 0 | bound: 0 | nc: 4 | ncall: 3979 | eff(%): 25.273 | loglstar:   -inf < -107.012 <    inf | logz: -114.284 +/-  0.158 | dlogz: 123.250 >  0.010]     "
     ]
    }
   ],
   "source": [
    "\n",
    "with Pool(processes=processes) as pool:\n",
    "    dsampler = dynesty.DynamicNestedSampler(lnlike, ptform, ndim, pool=pool, queue_size=processes,nlive=nlive)\n",
    "    dsampler.run_nested(print_progress=True)\n",
    "dresults = dsampler.results"
   ]
  },
  {
   "cell_type": "code",
   "execution_count": null,
   "metadata": {},
   "outputs": [],
   "source": []
  }
 ],
 "metadata": {
  "kernelspec": {
   "display_name": "Python 3",
   "language": "python",
   "name": "python3"
  },
  "language_info": {
   "codemirror_mode": {
    "name": "ipython",
    "version": 3
   },
   "file_extension": ".py",
   "mimetype": "text/x-python",
   "name": "python",
   "nbconvert_exporter": "python",
   "pygments_lexer": "ipython3",
   "version": "3.7.7"
  }
 },
 "nbformat": 4,
 "nbformat_minor": 4
}
