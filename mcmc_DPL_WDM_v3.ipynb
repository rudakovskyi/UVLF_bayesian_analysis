{
 "cells": [
  {
   "cell_type": "code",
   "execution_count": 1,
   "metadata": {},
   "outputs": [],
   "source": [
    "import numpy as np\n",
    "import scipy.optimize as op\n",
    "import pandas as pd\n",
    "import os\n",
    "import glob\n",
    "from multiprocessing import Pool\n",
    "\n",
    "import emcee\n",
    "import uvlf"
   ]
  },
  {
   "cell_type": "code",
   "execution_count": null,
   "metadata": {},
   "outputs": [],
   "source": [
    "nwalkers,nsteps=50,22000"
   ]
  },
  {
   "cell_type": "code",
   "execution_count": null,
   "metadata": {},
   "outputs": [],
   "source": []
  },
  {
   "cell_type": "code",
   "execution_count": 18,
   "metadata": {},
   "outputs": [],
   "source": [
    "DM='WDM'\n",
    "fs_model='DPL'\n",
    "dataset_name='B'\n",
    "z_arr=[6]\n",
    "    \n",
    "#priors:\n",
    "log10_ks_p1=-2.\n",
    "log10_ks_p2=1.\n",
    "\n",
    "a_s1_p1=-1.\n",
    "a_s1_p2=1.\n",
    "\n",
    "a_s2_p1=-1.\n",
    "a_s2_p2=1.\n",
    "\n",
    "\n",
    "log10_M_с_p1=8.\n",
    "log10_M_с_p2=10\n",
    "\n",
    "log10_M_t_p1=8.\n",
    "log10_M_t_p2=10\n",
    "\n",
    "mx_p1=0.5\n",
    "mx_p2=10."
   ]
  },
  {
   "cell_type": "code",
   "execution_count": 19,
   "metadata": {},
   "outputs": [],
   "source": [
    "ind=1\n",
    "\n",
    "if fs_model=='DPLM':\n",
    "    ind=-1\n",
    "    \n",
    "\n",
    "\n",
    "ndim=3\n",
    "\n",
    "if DM=='WDM':\n",
    "    ndim+=1\n",
    "if 'DPL' in fs_model:\n",
    "    ndim+=2\n"
   ]
  },
  {
   "cell_type": "code",
   "execution_count": 4,
   "metadata": {},
   "outputs": [],
   "source": [
    "LF_data=uvlf.dataset(dataset_name,z_arr)\n",
    "const=0\n",
    "for z,lf in LF_data.items():\n",
    "        x=lf[0]\n",
    "        y=lf[1]\n",
    "        yerr_down=lf[3]\n",
    "        yerr_up=lf[2]\n",
    "        const+=-0.5*len(y)*np.log((np.pi/2))-sum(np.log(yerr_down+yerr_up))\n"
   ]
  },
  {
   "cell_type": "code",
   "execution_count": 5,
   "metadata": {},
   "outputs": [],
   "source": [
    "def chi2(y_pred,y, yerr_up, yerr_down):\n",
    "        \n",
    "    return np.sum(np.heaviside(y_pred-y,0)*((y_pred-y)/yerr_up)**2+np.heaviside(y-y_pred,0)*((y_pred-y)/yerr_down)**2)\n",
    "\n",
    "def lnlike(theta, LF_data=LF_data):\n",
    "    log10_ks,a_s1,a_s2,log10_M_c,log10_M_t,mx = theta\n",
    "        \n",
    "    M_t=10**log10_M_t\n",
    "    M_c=10**log10_M_c\n",
    "    ks=10**log10_ks\n",
    "    chi2_sum=0\n",
    "    for z,lf in LF_data.items():\n",
    "        x=lf[0]\n",
    "        y=lf[1]\n",
    "        yerr_down=lf[3]\n",
    "        yerr_up=lf[2]\n",
    "        \n",
    "        \n",
    "        \n",
    "        M_UV_Model, phi_Model = uvlf.compute_LF(z=z, ks=ks,a_s1=a_s1, a_s2=a_s2,M_с=M_c,M_t=M_t,DM=DM,mx=mx, ind=ind)\n",
    "    \n",
    "        y_pred = np.interp( x, M_UV_Model[::-1], np.log10(phi_Model)[::-1] )\n",
    "#        print(chi2(y_interp,y,yerr_up,yerr_down))\n",
    "        chi2_sum+=chi2(y_pred,y,yerr_up,yerr_down)\n",
    "        \n",
    "    return -0.5*chi2_sum+const"
   ]
  },
  {
   "cell_type": "code",
   "execution_count": null,
   "metadata": {},
   "outputs": [],
   "source": [
    "nll = lambda *args: -lnlike(*args)\n",
    "\n",
    "\n",
    "def lnprior(theta):\n",
    "    \n",
    "    log10_ks,a_s1,a_s2,log10_M_с,log10_M_t,mx = theta\n",
    "    if log10_ks_p1<log10_ks<log10_ks_p2  and  a_s1_p1 < a_s1 < a_s1_p2  and  a_s2_p1<a_s2<a_s2_p2  and log10_M_с_p1<log10_M_с<log10_M_с_p2 and log10_M_t_p1<log10_M_t<log10_M_t_p2 and mx_p1<mx<mx_p2:\n",
    "\n",
    "\n",
    "        return 0.0\n",
    "    return -np.inf\n",
    "\n",
    "\n",
    "def lnprob(theta, LF_data=LF_data):\n",
    "    lp = lnprior(theta)\n",
    "    if not np.isfinite(lp):\n",
    "        return -np.inf\n",
    "    ll=lnlike(theta, LF_data)\n",
    "\n",
    "    if np.isnan(ll):\n",
    "        return -np.inf\n",
    "    return ll+lp"
   ]
  },
  {
   "cell_type": "code",
   "execution_count": 7,
   "metadata": {},
   "outputs": [],
   "source": [
    "a_s1_True=0.25\n",
    "a_s2_True=0.25\n",
    "\n",
    "log10M_t_True = 8.5\n",
    "log10M_c_True = 8.5\n",
    "log10_ks_True=-0.99\n",
    "mx_True=3.5\n",
    "result = op.minimize(nll, [log10_ks_True,a_s1_True,a_s2_True,log10M_c_True, log10M_t_True, mx_True],args=(LF_data),method='TNC',bounds=((-2,1),(-0.49,0.49),(-0.49,0.49),(8.1,11),(8.1,11),(0.5,5)))"
   ]
  },
  {
   "cell_type": "code",
   "execution_count": 8,
   "metadata": {},
   "outputs": [
    {
     "data": {
      "text/plain": [
       "'sample_wdm_B_z6_nw_50_nst_22000_pl.h5'"
      ]
     },
     "execution_count": 8,
     "metadata": {},
     "output_type": "execute_result"
    }
   ],
   "source": []
  },
  {
   "cell_type": "code",
   "execution_count": null,
   "metadata": {},
   "outputs": [],
   "source": [
    "filename = \"sample_{}_{}_z{}_nw_{}_nst_{}_{}.h5\".format(DM.lower(),dataset_name,'-'.join(str(x) for x in z_arr), nwalkers,nsteps,fs_model.lower())\n",
    "\n",
    "pos = [result['x']+1e-3*np.random.randn(ndim) for i in range(nwalkers)]\n",
    "backend = emcee.backends.HDFBackend(filename)\n",
    "backend.reset(nwalkers, ndim)\n",
    "with Pool(processes=8) as pool:\n",
    "    sampler = emcee.EnsembleSampler(nwalkers, ndim, lnprob, args=(LF_data,), pool=pool,backend=backend)\n",
    "    sampler.run_mcmc(initial_state=pos, nsteps=nsteps,progress=True,store = True)"
   ]
  },
  {
   "cell_type": "code",
   "execution_count": null,
   "metadata": {},
   "outputs": [],
   "source": []
  }
 ],
 "metadata": {
  "kernelspec": {
   "display_name": "Python 3",
   "language": "python",
   "name": "python3"
  },
  "language_info": {
   "codemirror_mode": {
    "name": "ipython",
    "version": 3
   },
   "file_extension": ".py",
   "mimetype": "text/x-python",
   "name": "python",
   "nbconvert_exporter": "python",
   "pygments_lexer": "ipython3",
   "version": "3.7.7"
  }
 },
 "nbformat": 4,
 "nbformat_minor": 4
}
