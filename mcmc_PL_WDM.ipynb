{
 "cells": [
  {
   "cell_type": "code",
   "execution_count": 1,
   "metadata": {},
   "outputs": [],
   "source": [
    "import numpy as np\n",
    "import scipy.optimize as op\n",
    "from multiprocessing import Pool\n",
    "import emcee\n",
    "import uvlfmc"
   ]
  },
  {
   "cell_type": "code",
   "execution_count": 2,
   "metadata": {},
   "outputs": [],
   "source": [
    "processes = 2\n",
    "nwalkers, nsteps = 20, 5000\n",
    "\n",
    "DM = 'WDM'\n",
    "fs_model = 'PL'\n",
    "f_z_dep = False\n",
    "dataset_name = 'B'\n",
    "z_arr = [6]\n",
    "\n",
    "priors = {\n",
    "    'log10_ks': (-2., 1.),\n",
    "    'a_s1': (-1., 1.),\n",
    "    'log10_M_t': (8., 10.),\n",
    "    'mx': (0.5, 10.),\n",
    "}"
   ]
  },
  {
   "cell_type": "code",
   "execution_count": 3,
   "metadata": {},
   "outputs": [],
   "source": [
    "LF_data=uvlfmc.dataset(dataset_name,z_arr)\n",
    "\n",
    "likecls = uvlfmc.Distrib(LF_data, DM, fs_model, f_z_dep, priors)\n",
    "lnlike = likecls.lnlike\n",
    "lnprob = likecls.lnprob"
   ]
  },
  {
   "cell_type": "code",
   "execution_count": 4,
   "metadata": {},
   "outputs": [],
   "source": [
    "starting_point = {\n",
    "    'log10_ks': -0.99,\n",
    "    'a_s1': 0.25,\n",
    "    'log10_M_t': 8.5,\n",
    "    'mx': 3.5,\n",
    "}\n",
    "\n",
    "result = op.minimize(lambda *args: -lnlike(*args), \n",
    "                     list(starting_point.values()),\n",
    "                     method='TNC',\n",
    "                     bounds=list(priors.values()))"
   ]
  },
  {
   "cell_type": "code",
   "execution_count": 5,
   "metadata": {},
   "outputs": [],
   "source": [
    "ndim = len(priors)"
   ]
  },
  {
   "cell_type": "code",
   "execution_count": null,
   "metadata": {},
   "outputs": [],
   "source": [
    "filename = \"sample_{}_{}_z{}_nw_{}_nst_{}_{}.h5\".format(DM.lower(), \n",
    "                                                        dataset_name, \n",
    "                                                        '-'.join(str(x) for x in z_arr), \n",
    "                                                        nwalkers,\n",
    "                                                        nsteps,\n",
    "                                                        fs_model.lower())\n",
    "\n",
    "pos = [result['x'] + 1e-3 * np.random.randn(ndim) for i in range(nwalkers)]\n",
    "backend = emcee.backends.HDFBackend(filename)\n",
    "backend.reset(nwalkers, ndim)\n",
    "with Pool(processes=processes) as pool:\n",
    "    sampler = emcee.EnsembleSampler(nwalkers, ndim, lnprob, pool=pool, backend=backend)\n",
    "    sampler.run_mcmc(initial_state=pos, nsteps=nsteps, progress=True, store=True)"
   ]
  }
 ],
 "metadata": {
  "kernelspec": {
   "display_name": "Python [conda env:rpytest]",
   "language": "python",
   "name": "conda-env-rpytest-py"
  },
  "language_info": {
   "codemirror_mode": {
    "name": "ipython",
    "version": 3
   },
   "file_extension": ".py",
   "mimetype": "text/x-python",
   "name": "python",
   "nbconvert_exporter": "python",
   "pygments_lexer": "ipython3",
   "version": "3.8.5"
  }
 },
 "nbformat": 4,
 "nbformat_minor": 4
}
