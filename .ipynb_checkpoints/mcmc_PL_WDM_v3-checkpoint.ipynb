{
 "cells": [
  {
   "cell_type": "code",
   "execution_count": 1,
   "metadata": {},
   "outputs": [
    {
     "ename": "ModuleNotFoundError",
     "evalue": "No module named 'uvlf'",
     "output_type": "error",
     "traceback": [
      "\u001b[0;31m---------------------------------------------------------------------------\u001b[0m",
      "\u001b[0;31mModuleNotFoundError\u001b[0m                       Traceback (most recent call last)",
      "\u001b[0;32m<ipython-input-1-b25c5427e23b>\u001b[0m in \u001b[0;36m<module>\u001b[0;34m\u001b[0m\n\u001b[1;32m      7\u001b[0m \u001b[0;34m\u001b[0m\u001b[0m\n\u001b[1;32m      8\u001b[0m \u001b[0;32mimport\u001b[0m \u001b[0memcee\u001b[0m\u001b[0;34m\u001b[0m\u001b[0;34m\u001b[0m\u001b[0m\n\u001b[0;32m----> 9\u001b[0;31m \u001b[0;32mimport\u001b[0m \u001b[0muvlf\u001b[0m\u001b[0;34m\u001b[0m\u001b[0;34m\u001b[0m\u001b[0m\n\u001b[0m",
      "\u001b[0;31mModuleNotFoundError\u001b[0m: No module named 'uvlf'"
     ]
    }
   ],
   "source": [
    "import numpy as np\n",
    "import scipy.optimize as op\n",
    "import pandas as pd\n",
    "import os\n",
    "import glob\n",
    "from multiprocessing import Pool\n",
    "\n",
    "import emcee\n",
    "import uvlf"
   ]
  },
  {
   "cell_type": "code",
   "execution_count": 2,
   "metadata": {},
   "outputs": [],
   "source": [
    "nwalkers,nsteps=20,15000"
   ]
  },
  {
   "cell_type": "code",
   "execution_count": 18,
   "metadata": {},
   "outputs": [],
   "source": [
    "DM='WDM'\n",
    "fs_model='DPL'\n",
    "dataset_name='B'\n",
    "z_arr=[6]\n",
    "    \n",
    "#priors:\n",
    "log10_ks_p1=-2.\n",
    "log10_ks_p2=1.\n",
    "\n",
    "a_s1_p1=-1.\n",
    "a_s1_p2=1.\n",
    "\n",
    "a_s2_p1=-1.\n",
    "a_s2_p2=1.\n",
    "\n",
    "\n",
    "log10_M_с_p1=8.\n",
    "log10_M_с_p2=10\n",
    "\n",
    "log10_M_t_p1=8.\n",
    "log10_M_t_p2=10\n",
    "\n",
    "mx_p1=0.5\n",
    "mx_p2=10."
   ]
  },
  {
   "cell_type": "code",
   "execution_count": 19,
   "metadata": {},
   "outputs": [],
   "source": [
    "ind=1\n",
    "\n",
    "if fs_model=='DPLM':\n",
    "    ind=-1\n",
    "    \n",
    "\n",
    "\n",
    "ndim=3\n",
    "\n",
    "if DM=='WDM':\n",
    "    ndim+=1\n",
    "if 'DPL' in fs_model:\n",
    "    ndim+=2\n"
   ]
  },
  {
   "cell_type": "code",
   "execution_count": 4,
   "metadata": {},
   "outputs": [],
   "source": [
    "LF_data=uvlf.dataset(dataset_name,z_arr)\n",
    "const=0\n",
    "for z,lf in LF_data.items():\n",
    "        x=lf[0]\n",
    "        y=lf[1]\n",
    "        yerr_down=lf[3]\n",
    "        yerr_up=lf[2]\n",
    "        const+=-0.5*len(y)*np.log((np.pi/2))-sum(np.log(yerr_down+yerr_up))\n"
   ]
  },
  {
   "cell_type": "code",
   "execution_count": 5,
   "metadata": {},
   "outputs": [],
   "source": [
    "def chi2(y_pred,y, yerr_up, yerr_down):\n",
    "        \n",
    "    return np.sum(np.heaviside(y_pred-y,0)*((y_pred-y)/yerr_up)**2+np.heaviside(y-y_pred,0)*((y_pred-y)/yerr_down)**2)\n",
    "\n",
    "def lnlike(theta, LF_data=LF_data):\n",
    "    log10_ks,a_s1,log10_M_t,mx = theta\n",
    "        \n",
    "    M_t=10**log10_M_t\n",
    "    ks=10**log10_ks\n",
    "    chi2_sum=0\n",
    "    for z,lf in LF_data.items():\n",
    "        x=lf[0]\n",
    "        y=lf[1]\n",
    "        yerr_down=lf[3]\n",
    "        yerr_up=lf[2]\n",
    "        \n",
    "        \n",
    "        \n",
    "        M_UV_Model, phi_Model = uvlf.compute_LF(z=z, ks=ks,a_s1=a_s1, a_s2=a_s1, M_t=M_t,DM=DM,mx=mx, ind=ind)\n",
    "    \n",
    "        y_pred = np.interp( x, M_UV_Model[::-1], np.log10(phi_Model)[::-1] )\n",
    "#        print(chi2(y_interp,y,yerr_up,yerr_down))\n",
    "        chi2_sum+=chi2(y_pred,y,yerr_up,yerr_down)\n",
    "        \n",
    "    return -0.5*chi2_sum+const"
   ]
  },
  {
   "cell_type": "code",
   "execution_count": 6,
   "metadata": {},
   "outputs": [],
   "source": [
    "nll = lambda *args: -lnlike(*args)\n",
    "\n",
    "\n",
    "def lnprior(theta):\n",
    "    \n",
    "    log10_ks,a_s1,log10_M_t,mx = theta\n",
    "    if log10_ks_p1<log10_ks<log10_ks_p2  and  a_s1_p1 < a_s1 < a_s1_p2 and log10_M_t_p1<log10_M_t<log10_M_t_p2 and mx_p1<mx<mx_p2:\n",
    "\n",
    "\n",
    "        return 0.0\n",
    "    return -np.inf\n",
    "\n",
    "\n",
    "def lnprob(theta, LF_data=LF_data):\n",
    "    lp = lnprior(theta)\n",
    "    if not np.isfinite(lp):\n",
    "        return -np.inf\n",
    "    ll=lnlike(theta, LF_data)\n",
    "\n",
    "    if np.isnan(ll):\n",
    "        return -np.inf\n",
    "    return ll+lp"
   ]
  },
  {
   "cell_type": "code",
   "execution_count": 7,
   "metadata": {},
   "outputs": [],
   "source": [
    "a_s1_True=0.25\n",
    "\n",
    "log10M_t_True = 8.5\n",
    "log10_ks_True=-0.99\n",
    "mx_True=3.5\n",
    "result = op.minimize(nll, [log10_ks_True,a_s1_True,log10M_t_True, mx_True],args=(LF_data),method='TNC',bounds=((-2,1),(-0.49,0.49),(8.1,10),(0.5,5)))"
   ]
  },
  {
   "cell_type": "code",
   "execution_count": null,
   "metadata": {},
   "outputs": [],
   "source": []
  },
  {
   "cell_type": "code",
   "execution_count": 8,
   "metadata": {},
   "outputs": [
    {
     "name": "stderr",
     "output_type": "stream",
     "text": [
      "/home/homo_novus/anaconda3/lib/python3.7/site-packages/emcee/ensemble.py:258: RuntimeWarning: Initial state is not linearly independent and it will not allow a full exploration of parameter space\n",
      "  category=RuntimeWarning,\n",
      "  2%|▏         | 325/15000 [10:09<7:22:02,  1.81s/it]"
     ]
    },
    {
     "name": "stdout",
     "output_type": "stream",
     "text": [
      "emcee: Exception while calling your likelihood function:"
     ]
    },
    {
     "name": "stderr",
     "output_type": "stream",
     "text": [
      "  2%|▏         | 325/15000 [10:10<7:39:47,  1.88s/it]Process ForkPoolWorker-8:\n"
     ]
    },
    {
     "name": "stdout",
     "output_type": "stream",
     "text": [
      "emcee: Exception while calling your likelihood function:emcee: Exception while calling your likelihood function:emcee: Exception while calling your likelihood function:emcee: Exception while calling your likelihood function:emcee: Exception while calling your likelihood function:\n",
      "\n",
      "\n"
     ]
    },
    {
     "name": "stderr",
     "output_type": "stream",
     "text": [
      "Traceback (most recent call last):\n"
     ]
    },
    {
     "name": "stdout",
     "output_type": "stream",
     "text": [
      "emcee: Exception while calling your likelihood function:  params:  params:\n",
      "\n"
     ]
    },
    {
     "name": "stderr",
     "output_type": "stream",
     "text": [
      "  File \"/home/homo_novus/anaconda3/lib/python3.7/multiprocessing/process.py\", line 297, in _bootstrap\n",
      "    self.run()\n"
     ]
    },
    {
     "name": "stdout",
     "output_type": "stream",
     "text": [
      "   params:\n",
      "  params:"
     ]
    },
    {
     "name": "stderr",
     "output_type": "stream",
     "text": [
      "  File \"/home/homo_novus/anaconda3/lib/python3.7/multiprocessing/process.py\", line 99, in run\n",
      "    self._target(*self._args, **self._kwargs)\n"
     ]
    },
    {
     "name": "stdout",
     "output_type": "stream",
     "text": [
      " \n",
      "  params:   params:    params:[-0.76539089  0.28016017  8.89966815  4.96461077][-0.75985776  0.20897566  8.19625877  6.56221364]"
     ]
    },
    {
     "name": "stderr",
     "output_type": "stream",
     "text": [
      "  File \"/home/homo_novus/anaconda3/lib/python3.7/multiprocessing/pool.py\", line 110, in worker\n",
      "    task = get()\n"
     ]
    },
    {
     "name": "stdout",
     "output_type": "stream",
     "text": [
      "[-0.78448298  0.39818126  8.9301969   6.84074462]\n",
      " \n",
      "\n",
      "[-0.80928462  0.42154722  8.90555714  7.70879618]   args:[-0.76872742  0.39007202  8.63737843  7.32979059]  args:"
     ]
    },
    {
     "name": "stderr",
     "output_type": "stream",
     "text": [
      "  File \"/home/homo_novus/anaconda3/lib/python3.7/multiprocessing/queues.py\", line 352, in get\n",
      "    res = self._reader.recv_bytes()\n"
     ]
    },
    {
     "name": "stdout",
     "output_type": "stream",
     "text": [
      "[-0.67579373  0.19749191  9.02473203  0.83937728] \n",
      "  args:\n",
      "[-0.82804022  0.41390023  8.23334659  8.99753439]\n",
      "({6: array([[-19.75      , -19.25      , -18.75      , -18.25      ,\n",
      "        -17.75      , -17.25      , -16.75      , -16.25      ,\n",
      "        -15.75      , -15.25      , -14.75      , -14.25      ,\n",
      "        -13.75      , -13.25      , -12.75      ],\n",
      "       [ -3.15490196,  -2.74472749,  -2.4436975 ,  -2.22184875,\n",
      "         -2.14874165,  -1.95467702,  -1.76955108,  -1.84771166,\n",
      "         -1.3819519 ,  -1.22257318,  -1.08777794,  -0.97798426,\n",
      "         -0.89448982,  -0.83445892,  -0.80024482],\n",
      "       [  0.19629465,   0.12493874,   0.09691001,   0.07918125,\n",
      "          0.28546222,   0.28305662,   0.29459589,   0.34325599,\n",
      "          0.26787824,   0.35483287,   0.52218715,   0.78861996,\n",
      "          1.14378603,   1.58134989,   2.10047281],\n",
      "       [  0.36797679,   0.17609126,   0.12493874,   0.09691001,\n",
      "          0.09538349,   0.09593297,   0.11317763,   0.20780567,\n",
      "          0.078972  ,   0.0845799 ,   0.12903337,   0.23102726,\n",
      "          0.38287626,   0.57783011,   0.81773813]])},)"
     ]
    },
    {
     "name": "stderr",
     "output_type": "stream",
     "text": [
      "  File \"/home/homo_novus/anaconda3/lib/python3.7/multiprocessing/connection.py\", line 216, in recv_bytes\n",
      "    buf = self._recv_bytes(maxlength)\n"
     ]
    },
    {
     "name": "stdout",
     "output_type": "stream",
     "text": [
      "\n",
      "   args:  args:  args:   args:"
     ]
    },
    {
     "name": "stderr",
     "output_type": "stream",
     "text": [
      "  File \"/home/homo_novus/anaconda3/lib/python3.7/multiprocessing/connection.py\", line 407, in _recv_bytes\n",
      "    buf = self._recv(4)\n"
     ]
    },
    {
     "name": "stdout",
     "output_type": "stream",
     "text": [
      " \n",
      "   ({6: array([[-19.75      , -19.25      , -18.75      , -18.25      ,\n",
      "        -17.75      , -17.25      , -16.75      , -16.25      ,\n",
      "        -15.75      , -15.25      , -14.75      , -14.25      ,\n",
      "        -13.75      , -13.25      , -12.75      ],\n",
      "       [ -3.15490196,  -2.74472749,  -2.4436975 ,  -2.22184875,\n",
      "         -2.14874165,  -1.95467702,  -1.76955108,  -1.84771166,\n",
      "         -1.3819519 ,  -1.22257318,  -1.08777794,  -0.97798426,\n",
      "         -0.89448982,  -0.83445892,  -0.80024482],\n",
      "       [  0.19629465,   0.12493874,   0.09691001,   0.07918125,\n",
      "          0.28546222,   0.28305662,   0.29459589,   0.34325599,\n",
      "          0.26787824,   0.35483287,   0.52218715,   0.78861996,\n",
      "          1.14378603,   1.58134989,   2.10047281],\n",
      "       [  0.36797679,   0.17609126,   0.12493874,   0.09691001,\n",
      "          0.09538349,   0.09593297,   0.11317763,   0.20780567,\n",
      "          0.078972  ,   0.0845799 ,   0.12903337,   0.23102726,\n",
      "          0.38287626,   0.57783011,   0.81773813]])},)"
     ]
    },
    {
     "name": "stderr",
     "output_type": "stream",
     "text": [
      "  File \"/home/homo_novus/anaconda3/lib/python3.7/multiprocessing/connection.py\", line 379, in _recv\n",
      "    chunk = read(handle, remaining)\n"
     ]
    },
    {
     "name": "stdout",
     "output_type": "stream",
     "text": [
      "({6: array([[-19.75      , -19.25      , -18.75      , -18.25      ,\n",
      "        -17.75      , -17.25      , -16.75      , -16.25      ,\n",
      "        -15.75      , -15.25      , -14.75      , -14.25      ,\n",
      "        -13.75      , -13.25      , -12.75      ],\n",
      "       [ -3.15490196,  -2.74472749,  -2.4436975 ,  -2.22184875,\n",
      "         -2.14874165,  -1.95467702,  -1.76955108,  -1.84771166,\n",
      "         -1.3819519 ,  -1.22257318,  -1.08777794,  -0.97798426,\n",
      "         -0.89448982,  -0.83445892,  -0.80024482],\n",
      "       [  0.19629465,   0.12493874,   0.09691001,   0.07918125,\n",
      "          0.28546222,   0.28305662,   0.29459589,   0.34325599,\n",
      "          0.26787824,   0.35483287,   0.52218715,   0.78861996,\n",
      "          1.14378603,   1.58134989,   2.10047281],\n",
      "       [  0.36797679,   0.17609126,   0.12493874,   0.09691001,\n",
      "          0.09538349,   0.09593297,   0.11317763,   0.20780567,\n",
      "          0.078972  ,   0.0845799 ,   0.12903337,   0.23102726,\n",
      "          0.38287626,   0.57783011,   0.81773813]])},)\n",
      "({6: array([[-19.75      , -19.25      , -18.75      , -18.25      ,\n",
      "        -17.75      , -17.25      , -16.75      , -16.25      ,\n",
      "        -15.75      , -15.25      , -14.75      , -14.25      ,\n",
      "        -13.75      , -13.25      , -12.75      ],\n",
      "       [ -3.15490196,  -2.74472749,  -2.4436975 ,  -2.22184875,\n",
      "         -2.14874165,  -1.95467702,  -1.76955108,  -1.84771166,\n",
      "         -1.3819519 ,  -1.22257318,  -1.08777794,  -0.97798426,\n",
      "         -0.89448982,  -0.83445892,  -0.80024482],\n",
      "       [  0.19629465,   0.12493874,   0.09691001,   0.07918125,\n",
      "          0.28546222,   0.28305662,   0.29459589,   0.34325599,\n",
      "          0.26787824,   0.35483287,   0.52218715,   0.78861996,\n",
      "          1.14378603,   1.58134989,   2.10047281],\n",
      "       [  0.36797679,   0.17609126,   0.12493874,   0.09691001,\n",
      "          0.09538349,   0.09593297,   0.11317763,   0.20780567,\n",
      "          0.078972  ,   0.0845799 ,   0.12903337,   0.23102726,\n",
      "          0.38287626,   0.57783011,   0.81773813]])},)  kwargs:({6: array([[-19.75      , -19.25      , -18.75      , -18.25      ,\n",
      "        -17.75      , -17.25      , -16.75      , -16.25      ,\n",
      "        -15.75      , -15.25      , -14.75      , -14.25      ,\n",
      "        -13.75      , -13.25      , -12.75      ],\n",
      "       [ -3.15490196,  -2.74472749,  -2.4436975 ,  -2.22184875,\n",
      "         -2.14874165,  -1.95467702,  -1.76955108,  -1.84771166,\n",
      "         -1.3819519 ,  -1.22257318,  -1.08777794,  -0.97798426,\n",
      "         -0.89448982,  -0.83445892,  -0.80024482],\n",
      "       [  0.19629465,   0.12493874,   0.09691001,   0.07918125,\n",
      "          0.28546222,   0.28305662,   0.29459589,   0.34325599,\n",
      "          0.26787824,   0.35483287,   0.52218715,   0.78861996,\n",
      "          1.14378603,   1.58134989,   2.10047281],\n",
      "       [  0.36797679,   0.17609126,   0.12493874,   0.09691001,\n",
      "          0.09538349,   0.09593297,   0.11317763,   0.20780567,\n",
      "          0.078972  ,   0.0845799 ,   0.12903337,   0.23102726,\n",
      "          0.38287626,   0.57783011,   0.81773813]])},)({6: array([[-19.75      , -19.25      , -18.75      , -18.25      ,\n",
      "        -17.75      , -17.25      , -16.75      , -16.25      ,\n",
      "        -15.75      , -15.25      , -14.75      , -14.25      ,\n",
      "        -13.75      , -13.25      , -12.75      ],\n",
      "       [ -3.15490196,  -2.74472749,  -2.4436975 ,  -2.22184875,\n",
      "         -2.14874165,  -1.95467702,  -1.76955108,  -1.84771166,\n",
      "         -1.3819519 ,  -1.22257318,  -1.08777794,  -0.97798426,\n",
      "         -0.89448982,  -0.83445892,  -0.80024482],\n",
      "       [  0.19629465,   0.12493874,   0.09691001,   0.07918125,\n",
      "          0.28546222,   0.28305662,   0.29459589,   0.34325599,\n",
      "          0.26787824,   0.35483287,   0.52218715,   0.78861996,\n",
      "          1.14378603,   1.58134989,   2.10047281],\n",
      "       [  0.36797679,   0.17609126,   0.12493874,   0.09691001,\n",
      "          0.09538349,   0.09593297,   0.11317763,   0.20780567,\n",
      "          0.078972  ,   0.0845799 ,   0.12903337,   0.23102726,\n",
      "          0.38287626,   0.57783011,   0.81773813]])},)({6: array([[-19.75      , -19.25      , -18.75      , -18.25      ,\n",
      "        -17.75      , -17.25      , -16.75      , -16.25      ,\n",
      "        -15.75      , -15.25      , -14.75      , -14.25      ,\n",
      "        -13.75      , -13.25      , -12.75      ],\n",
      "       [ -3.15490196,  -2.74472749,  -2.4436975 ,  -2.22184875,\n",
      "         -2.14874165,  -1.95467702,  -1.76955108,  -1.84771166,\n",
      "         -1.3819519 ,  -1.22257318,  -1.08777794,  -0.97798426,\n",
      "         -0.89448982,  -0.83445892,  -0.80024482],\n",
      "       [  0.19629465,   0.12493874,   0.09691001,   0.07918125,\n",
      "          0.28546222,   0.28305662,   0.29459589,   0.34325599,\n",
      "          0.26787824,   0.35483287,   0.52218715,   0.78861996,\n",
      "          1.14378603,   1.58134989,   2.10047281],\n",
      "       [  0.36797679,   0.17609126,   0.12493874,   0.09691001,\n",
      "          0.09538349,   0.09593297,   0.11317763,   0.20780567,\n",
      "          0.078972  ,   0.0845799 ,   0.12903337,   0.23102726,\n",
      "          0.38287626,   0.57783011,   0.81773813]])},)"
     ]
    },
    {
     "name": "stderr",
     "output_type": "stream",
     "text": [
      "KeyboardInterrupt\n"
     ]
    },
    {
     "name": "stdout",
     "output_type": "stream",
     "text": [
      " \n",
      "  kwargs: "
     ]
    },
    {
     "name": "stderr",
     "output_type": "stream",
     "text": [
      "\n"
     ]
    },
    {
     "ename": "KeyboardInterrupt",
     "evalue": "",
     "output_type": "error",
     "traceback": [
      "\u001b[0;31m---------------------------------------------------------------------------\u001b[0m",
      "\u001b[0;31mKeyboardInterrupt\u001b[0m                         Traceback (most recent call last)",
      "\u001b[0;32m<ipython-input-8-666a3a579ba4>\u001b[0m in \u001b[0;36m<module>\u001b[0;34m\u001b[0m\n\u001b[1;32m      6\u001b[0m \u001b[0;32mwith\u001b[0m \u001b[0mPool\u001b[0m\u001b[0;34m(\u001b[0m\u001b[0mprocesses\u001b[0m\u001b[0;34m=\u001b[0m\u001b[0;36m8\u001b[0m\u001b[0;34m)\u001b[0m \u001b[0;32mas\u001b[0m \u001b[0mpool\u001b[0m\u001b[0;34m:\u001b[0m\u001b[0;34m\u001b[0m\u001b[0;34m\u001b[0m\u001b[0m\n\u001b[1;32m      7\u001b[0m     \u001b[0msampler\u001b[0m \u001b[0;34m=\u001b[0m \u001b[0memcee\u001b[0m\u001b[0;34m.\u001b[0m\u001b[0mEnsembleSampler\u001b[0m\u001b[0;34m(\u001b[0m\u001b[0mnwalkers\u001b[0m\u001b[0;34m,\u001b[0m \u001b[0mndim\u001b[0m\u001b[0;34m,\u001b[0m \u001b[0mlnprob\u001b[0m\u001b[0;34m,\u001b[0m \u001b[0margs\u001b[0m\u001b[0;34m=\u001b[0m\u001b[0;34m(\u001b[0m\u001b[0mLF_data\u001b[0m\u001b[0;34m,\u001b[0m\u001b[0;34m)\u001b[0m\u001b[0;34m,\u001b[0m \u001b[0mpool\u001b[0m\u001b[0;34m=\u001b[0m\u001b[0mpool\u001b[0m\u001b[0;34m,\u001b[0m\u001b[0mbackend\u001b[0m\u001b[0;34m=\u001b[0m\u001b[0mbackend\u001b[0m\u001b[0;34m)\u001b[0m\u001b[0;34m\u001b[0m\u001b[0;34m\u001b[0m\u001b[0m\n\u001b[0;32m----> 8\u001b[0;31m     \u001b[0msampler\u001b[0m\u001b[0;34m.\u001b[0m\u001b[0mrun_mcmc\u001b[0m\u001b[0;34m(\u001b[0m\u001b[0minitial_state\u001b[0m\u001b[0;34m=\u001b[0m\u001b[0mpos\u001b[0m\u001b[0;34m,\u001b[0m \u001b[0mnsteps\u001b[0m\u001b[0;34m=\u001b[0m\u001b[0mnsteps\u001b[0m\u001b[0;34m,\u001b[0m\u001b[0mprogress\u001b[0m\u001b[0;34m=\u001b[0m\u001b[0;32mTrue\u001b[0m\u001b[0;34m,\u001b[0m\u001b[0mstore\u001b[0m \u001b[0;34m=\u001b[0m \u001b[0;32mTrue\u001b[0m\u001b[0;34m)\u001b[0m\u001b[0;34m\u001b[0m\u001b[0;34m\u001b[0m\u001b[0m\n\u001b[0m",
      "\u001b[0;32m~/anaconda3/lib/python3.7/site-packages/emcee/ensemble.py\u001b[0m in \u001b[0;36mrun_mcmc\u001b[0;34m(self, initial_state, nsteps, **kwargs)\u001b[0m\n\u001b[1;32m    384\u001b[0m \u001b[0;34m\u001b[0m\u001b[0m\n\u001b[1;32m    385\u001b[0m         \u001b[0mresults\u001b[0m \u001b[0;34m=\u001b[0m \u001b[0;32mNone\u001b[0m\u001b[0;34m\u001b[0m\u001b[0;34m\u001b[0m\u001b[0m\n\u001b[0;32m--> 386\u001b[0;31m         \u001b[0;32mfor\u001b[0m \u001b[0mresults\u001b[0m \u001b[0;32min\u001b[0m \u001b[0mself\u001b[0m\u001b[0;34m.\u001b[0m\u001b[0msample\u001b[0m\u001b[0;34m(\u001b[0m\u001b[0minitial_state\u001b[0m\u001b[0;34m,\u001b[0m \u001b[0miterations\u001b[0m\u001b[0;34m=\u001b[0m\u001b[0mnsteps\u001b[0m\u001b[0;34m,\u001b[0m \u001b[0;34m**\u001b[0m\u001b[0mkwargs\u001b[0m\u001b[0;34m)\u001b[0m\u001b[0;34m:\u001b[0m\u001b[0;34m\u001b[0m\u001b[0;34m\u001b[0m\u001b[0m\n\u001b[0m\u001b[1;32m    387\u001b[0m             \u001b[0;32mpass\u001b[0m\u001b[0;34m\u001b[0m\u001b[0;34m\u001b[0m\u001b[0m\n\u001b[1;32m    388\u001b[0m \u001b[0;34m\u001b[0m\u001b[0m\n",
      "\u001b[0;32m~/anaconda3/lib/python3.7/site-packages/emcee/ensemble.py\u001b[0m in \u001b[0;36msample\u001b[0;34m(self, initial_state, log_prob0, rstate0, blobs0, iterations, tune, skip_initial_state_check, thin_by, thin, store, progress)\u001b[0m\n\u001b[1;32m    343\u001b[0m \u001b[0;34m\u001b[0m\u001b[0m\n\u001b[1;32m    344\u001b[0m                     \u001b[0;31m# Propose\u001b[0m\u001b[0;34m\u001b[0m\u001b[0;34m\u001b[0m\u001b[0;34m\u001b[0m\u001b[0m\n\u001b[0;32m--> 345\u001b[0;31m                     \u001b[0mstate\u001b[0m\u001b[0;34m,\u001b[0m \u001b[0maccepted\u001b[0m \u001b[0;34m=\u001b[0m \u001b[0mmove\u001b[0m\u001b[0;34m.\u001b[0m\u001b[0mpropose\u001b[0m\u001b[0;34m(\u001b[0m\u001b[0mmodel\u001b[0m\u001b[0;34m,\u001b[0m \u001b[0mstate\u001b[0m\u001b[0;34m)\u001b[0m\u001b[0;34m\u001b[0m\u001b[0;34m\u001b[0m\u001b[0m\n\u001b[0m\u001b[1;32m    346\u001b[0m                     \u001b[0mstate\u001b[0m\u001b[0;34m.\u001b[0m\u001b[0mrandom_state\u001b[0m \u001b[0;34m=\u001b[0m \u001b[0mself\u001b[0m\u001b[0;34m.\u001b[0m\u001b[0mrandom_state\u001b[0m\u001b[0;34m\u001b[0m\u001b[0;34m\u001b[0m\u001b[0m\n\u001b[1;32m    347\u001b[0m \u001b[0;34m\u001b[0m\u001b[0m\n",
      "\u001b[0;32m~/anaconda3/lib/python3.7/site-packages/emcee/moves/red_blue.py\u001b[0m in \u001b[0;36mpropose\u001b[0;34m(self, model, state)\u001b[0m\n\u001b[1;32m     90\u001b[0m \u001b[0;34m\u001b[0m\u001b[0m\n\u001b[1;32m     91\u001b[0m             \u001b[0;31m# Compute the lnprobs of the proposed position.\u001b[0m\u001b[0;34m\u001b[0m\u001b[0;34m\u001b[0m\u001b[0;34m\u001b[0m\u001b[0m\n\u001b[0;32m---> 92\u001b[0;31m             \u001b[0mnew_log_probs\u001b[0m\u001b[0;34m,\u001b[0m \u001b[0mnew_blobs\u001b[0m \u001b[0;34m=\u001b[0m \u001b[0mmodel\u001b[0m\u001b[0;34m.\u001b[0m\u001b[0mcompute_log_prob_fn\u001b[0m\u001b[0;34m(\u001b[0m\u001b[0mq\u001b[0m\u001b[0;34m)\u001b[0m\u001b[0;34m\u001b[0m\u001b[0;34m\u001b[0m\u001b[0m\n\u001b[0m\u001b[1;32m     93\u001b[0m \u001b[0;34m\u001b[0m\u001b[0m\n\u001b[1;32m     94\u001b[0m             \u001b[0;31m# Loop over the walkers and update them accordingly.\u001b[0m\u001b[0;34m\u001b[0m\u001b[0;34m\u001b[0m\u001b[0;34m\u001b[0m\u001b[0m\n",
      "\u001b[0;32m~/anaconda3/lib/python3.7/site-packages/emcee/ensemble.py\u001b[0m in \u001b[0;36mcompute_log_prob\u001b[0;34m(self, coords)\u001b[0m\n\u001b[1;32m    427\u001b[0m                 \u001b[0mmap_func\u001b[0m \u001b[0;34m=\u001b[0m \u001b[0mmap\u001b[0m\u001b[0;34m\u001b[0m\u001b[0;34m\u001b[0m\u001b[0m\n\u001b[1;32m    428\u001b[0m             results = list(\n\u001b[0;32m--> 429\u001b[0;31m                 \u001b[0mmap_func\u001b[0m\u001b[0;34m(\u001b[0m\u001b[0mself\u001b[0m\u001b[0;34m.\u001b[0m\u001b[0mlog_prob_fn\u001b[0m\u001b[0;34m,\u001b[0m \u001b[0;34m(\u001b[0m\u001b[0mp\u001b[0m\u001b[0;34m[\u001b[0m\u001b[0mi\u001b[0m\u001b[0;34m]\u001b[0m \u001b[0;32mfor\u001b[0m \u001b[0mi\u001b[0m \u001b[0;32min\u001b[0m \u001b[0mrange\u001b[0m\u001b[0;34m(\u001b[0m\u001b[0mlen\u001b[0m\u001b[0;34m(\u001b[0m\u001b[0mp\u001b[0m\u001b[0;34m)\u001b[0m\u001b[0;34m)\u001b[0m\u001b[0;34m)\u001b[0m\u001b[0;34m)\u001b[0m\u001b[0;34m\u001b[0m\u001b[0;34m\u001b[0m\u001b[0m\n\u001b[0m\u001b[1;32m    430\u001b[0m             )\n\u001b[1;32m    431\u001b[0m \u001b[0;34m\u001b[0m\u001b[0m\n",
      "\u001b[0;32m~/anaconda3/lib/python3.7/multiprocessing/pool.py\u001b[0m in \u001b[0;36mmap\u001b[0;34m(self, func, iterable, chunksize)\u001b[0m\n\u001b[1;32m    266\u001b[0m         \u001b[0;32min\u001b[0m \u001b[0ma\u001b[0m \u001b[0mlist\u001b[0m \u001b[0mthat\u001b[0m \u001b[0;32mis\u001b[0m \u001b[0mreturned\u001b[0m\u001b[0;34m.\u001b[0m\u001b[0;34m\u001b[0m\u001b[0;34m\u001b[0m\u001b[0m\n\u001b[1;32m    267\u001b[0m         '''\n\u001b[0;32m--> 268\u001b[0;31m         \u001b[0;32mreturn\u001b[0m \u001b[0mself\u001b[0m\u001b[0;34m.\u001b[0m\u001b[0m_map_async\u001b[0m\u001b[0;34m(\u001b[0m\u001b[0mfunc\u001b[0m\u001b[0;34m,\u001b[0m \u001b[0miterable\u001b[0m\u001b[0;34m,\u001b[0m \u001b[0mmapstar\u001b[0m\u001b[0;34m,\u001b[0m \u001b[0mchunksize\u001b[0m\u001b[0;34m)\u001b[0m\u001b[0;34m.\u001b[0m\u001b[0mget\u001b[0m\u001b[0;34m(\u001b[0m\u001b[0;34m)\u001b[0m\u001b[0;34m\u001b[0m\u001b[0;34m\u001b[0m\u001b[0m\n\u001b[0m\u001b[1;32m    269\u001b[0m \u001b[0;34m\u001b[0m\u001b[0m\n\u001b[1;32m    270\u001b[0m     \u001b[0;32mdef\u001b[0m \u001b[0mstarmap\u001b[0m\u001b[0;34m(\u001b[0m\u001b[0mself\u001b[0m\u001b[0;34m,\u001b[0m \u001b[0mfunc\u001b[0m\u001b[0;34m,\u001b[0m \u001b[0miterable\u001b[0m\u001b[0;34m,\u001b[0m \u001b[0mchunksize\u001b[0m\u001b[0;34m=\u001b[0m\u001b[0;32mNone\u001b[0m\u001b[0;34m)\u001b[0m\u001b[0;34m:\u001b[0m\u001b[0;34m\u001b[0m\u001b[0;34m\u001b[0m\u001b[0m\n",
      "\u001b[0;32m~/anaconda3/lib/python3.7/multiprocessing/pool.py\u001b[0m in \u001b[0;36mget\u001b[0;34m(self, timeout)\u001b[0m\n\u001b[1;32m    649\u001b[0m \u001b[0;34m\u001b[0m\u001b[0m\n\u001b[1;32m    650\u001b[0m     \u001b[0;32mdef\u001b[0m \u001b[0mget\u001b[0m\u001b[0;34m(\u001b[0m\u001b[0mself\u001b[0m\u001b[0;34m,\u001b[0m \u001b[0mtimeout\u001b[0m\u001b[0;34m=\u001b[0m\u001b[0;32mNone\u001b[0m\u001b[0;34m)\u001b[0m\u001b[0;34m:\u001b[0m\u001b[0;34m\u001b[0m\u001b[0;34m\u001b[0m\u001b[0m\n\u001b[0;32m--> 651\u001b[0;31m         \u001b[0mself\u001b[0m\u001b[0;34m.\u001b[0m\u001b[0mwait\u001b[0m\u001b[0;34m(\u001b[0m\u001b[0mtimeout\u001b[0m\u001b[0;34m)\u001b[0m\u001b[0;34m\u001b[0m\u001b[0;34m\u001b[0m\u001b[0m\n\u001b[0m\u001b[1;32m    652\u001b[0m         \u001b[0;32mif\u001b[0m \u001b[0;32mnot\u001b[0m \u001b[0mself\u001b[0m\u001b[0;34m.\u001b[0m\u001b[0mready\u001b[0m\u001b[0;34m(\u001b[0m\u001b[0;34m)\u001b[0m\u001b[0;34m:\u001b[0m\u001b[0;34m\u001b[0m\u001b[0;34m\u001b[0m\u001b[0m\n\u001b[1;32m    653\u001b[0m             \u001b[0;32mraise\u001b[0m \u001b[0mTimeoutError\u001b[0m\u001b[0;34m\u001b[0m\u001b[0;34m\u001b[0m\u001b[0m\n",
      "\u001b[0;32m~/anaconda3/lib/python3.7/multiprocessing/pool.py\u001b[0m in \u001b[0;36mwait\u001b[0;34m(self, timeout)\u001b[0m\n\u001b[1;32m    646\u001b[0m \u001b[0;34m\u001b[0m\u001b[0m\n\u001b[1;32m    647\u001b[0m     \u001b[0;32mdef\u001b[0m \u001b[0mwait\u001b[0m\u001b[0;34m(\u001b[0m\u001b[0mself\u001b[0m\u001b[0;34m,\u001b[0m \u001b[0mtimeout\u001b[0m\u001b[0;34m=\u001b[0m\u001b[0;32mNone\u001b[0m\u001b[0;34m)\u001b[0m\u001b[0;34m:\u001b[0m\u001b[0;34m\u001b[0m\u001b[0;34m\u001b[0m\u001b[0m\n\u001b[0;32m--> 648\u001b[0;31m         \u001b[0mself\u001b[0m\u001b[0;34m.\u001b[0m\u001b[0m_event\u001b[0m\u001b[0;34m.\u001b[0m\u001b[0mwait\u001b[0m\u001b[0;34m(\u001b[0m\u001b[0mtimeout\u001b[0m\u001b[0;34m)\u001b[0m\u001b[0;34m\u001b[0m\u001b[0;34m\u001b[0m\u001b[0m\n\u001b[0m\u001b[1;32m    649\u001b[0m \u001b[0;34m\u001b[0m\u001b[0m\n\u001b[1;32m    650\u001b[0m     \u001b[0;32mdef\u001b[0m \u001b[0mget\u001b[0m\u001b[0;34m(\u001b[0m\u001b[0mself\u001b[0m\u001b[0;34m,\u001b[0m \u001b[0mtimeout\u001b[0m\u001b[0;34m=\u001b[0m\u001b[0;32mNone\u001b[0m\u001b[0;34m)\u001b[0m\u001b[0;34m:\u001b[0m\u001b[0;34m\u001b[0m\u001b[0;34m\u001b[0m\u001b[0m\n",
      "\u001b[0;32m~/anaconda3/lib/python3.7/threading.py\u001b[0m in \u001b[0;36mwait\u001b[0;34m(self, timeout)\u001b[0m\n\u001b[1;32m    550\u001b[0m             \u001b[0msignaled\u001b[0m \u001b[0;34m=\u001b[0m \u001b[0mself\u001b[0m\u001b[0;34m.\u001b[0m\u001b[0m_flag\u001b[0m\u001b[0;34m\u001b[0m\u001b[0;34m\u001b[0m\u001b[0m\n\u001b[1;32m    551\u001b[0m             \u001b[0;32mif\u001b[0m \u001b[0;32mnot\u001b[0m \u001b[0msignaled\u001b[0m\u001b[0;34m:\u001b[0m\u001b[0;34m\u001b[0m\u001b[0;34m\u001b[0m\u001b[0m\n\u001b[0;32m--> 552\u001b[0;31m                 \u001b[0msignaled\u001b[0m \u001b[0;34m=\u001b[0m \u001b[0mself\u001b[0m\u001b[0;34m.\u001b[0m\u001b[0m_cond\u001b[0m\u001b[0;34m.\u001b[0m\u001b[0mwait\u001b[0m\u001b[0;34m(\u001b[0m\u001b[0mtimeout\u001b[0m\u001b[0;34m)\u001b[0m\u001b[0;34m\u001b[0m\u001b[0;34m\u001b[0m\u001b[0m\n\u001b[0m\u001b[1;32m    553\u001b[0m             \u001b[0;32mreturn\u001b[0m \u001b[0msignaled\u001b[0m\u001b[0;34m\u001b[0m\u001b[0;34m\u001b[0m\u001b[0m\n\u001b[1;32m    554\u001b[0m \u001b[0;34m\u001b[0m\u001b[0m\n",
      "\u001b[0;32m~/anaconda3/lib/python3.7/threading.py\u001b[0m in \u001b[0;36mwait\u001b[0;34m(self, timeout)\u001b[0m\n\u001b[1;32m    294\u001b[0m         \u001b[0;32mtry\u001b[0m\u001b[0;34m:\u001b[0m    \u001b[0;31m# restore state no matter what (e.g., KeyboardInterrupt)\u001b[0m\u001b[0;34m\u001b[0m\u001b[0;34m\u001b[0m\u001b[0m\n\u001b[1;32m    295\u001b[0m             \u001b[0;32mif\u001b[0m \u001b[0mtimeout\u001b[0m \u001b[0;32mis\u001b[0m \u001b[0;32mNone\u001b[0m\u001b[0;34m:\u001b[0m\u001b[0;34m\u001b[0m\u001b[0;34m\u001b[0m\u001b[0m\n\u001b[0;32m--> 296\u001b[0;31m                 \u001b[0mwaiter\u001b[0m\u001b[0;34m.\u001b[0m\u001b[0macquire\u001b[0m\u001b[0;34m(\u001b[0m\u001b[0;34m)\u001b[0m\u001b[0;34m\u001b[0m\u001b[0;34m\u001b[0m\u001b[0m\n\u001b[0m\u001b[1;32m    297\u001b[0m                 \u001b[0mgotit\u001b[0m \u001b[0;34m=\u001b[0m \u001b[0;32mTrue\u001b[0m\u001b[0;34m\u001b[0m\u001b[0;34m\u001b[0m\u001b[0m\n\u001b[1;32m    298\u001b[0m             \u001b[0;32melse\u001b[0m\u001b[0;34m:\u001b[0m\u001b[0;34m\u001b[0m\u001b[0;34m\u001b[0m\u001b[0m\n",
      "\u001b[0;31mKeyboardInterrupt\u001b[0m: "
     ]
    }
   ],
   "source": [
    "filename = \"sample_{}_{}_z{}_nw_{}_nst_{}_{}.h5\".format(DM.lower(),dataset_name,'-'.join(str(x) for x in z_arr), nwalkers,nsteps,fs_model.lower())\n",
    "\n",
    "pos = [result['x']+1e-3*np.random.randn(ndim) for i in range(nwalkers)]\n",
    "backend = emcee.backends.HDFBackend(filename)\n",
    "backend.reset(nwalkers, ndim)\n",
    "with Pool(processes=8) as pool:\n",
    "    sampler = emcee.EnsembleSampler(nwalkers, ndim, lnprob, args=(LF_data,), pool=pool,backend=backend)\n",
    "    sampler.run_mcmc(initial_state=pos, nsteps=nsteps,progress=True,store = True)"
   ]
  },
  {
   "cell_type": "code",
   "execution_count": null,
   "metadata": {},
   "outputs": [],
   "source": []
  }
 ],
 "metadata": {
  "kernelspec": {
   "display_name": "Python 3",
   "language": "python",
   "name": "python3"
  },
  "language_info": {
   "codemirror_mode": {
    "name": "ipython",
    "version": 3
   },
   "file_extension": ".py",
   "mimetype": "text/x-python",
   "name": "python",
   "nbconvert_exporter": "python",
   "pygments_lexer": "ipython3",
   "version": "3.7.7"
  }
 },
 "nbformat": 4,
 "nbformat_minor": 4
}
