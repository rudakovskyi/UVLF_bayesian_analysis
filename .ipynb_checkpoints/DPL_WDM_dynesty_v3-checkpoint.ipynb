{
 "cells": [
  {
   "cell_type": "code",
   "execution_count": 3,
   "metadata": {},
   "outputs": [
    {
     "ename": "ModuleNotFoundError",
     "evalue": "No module named 'uvlf'",
     "output_type": "error",
     "traceback": [
      "\u001b[0;31m---------------------------------------------------------------------------\u001b[0m",
      "\u001b[0;31mModuleNotFoundError\u001b[0m                       Traceback (most recent call last)",
      "\u001b[0;32m<ipython-input-3-0652786f6fa5>\u001b[0m in \u001b[0;36m<module>\u001b[0;34m\u001b[0m\n\u001b[1;32m      8\u001b[0m \u001b[0;32mimport\u001b[0m \u001b[0mdynesty\u001b[0m\u001b[0;34m\u001b[0m\u001b[0;34m\u001b[0m\u001b[0m\n\u001b[1;32m      9\u001b[0m \u001b[0;32mimport\u001b[0m \u001b[0mpickle\u001b[0m\u001b[0;34m\u001b[0m\u001b[0;34m\u001b[0m\u001b[0m\n\u001b[0;32m---> 10\u001b[0;31m \u001b[0;32mimport\u001b[0m \u001b[0muvlf\u001b[0m\u001b[0;34m\u001b[0m\u001b[0;34m\u001b[0m\u001b[0m\n\u001b[0m",
      "\u001b[0;31mModuleNotFoundError\u001b[0m: No module named 'uvlf'"
     ]
    }
   ],
   "source": [
    "import numpy as np\n",
    "import scipy.optimize as op\n",
    "import pandas as pd\n",
    "import os\n",
    "import glob\n",
    "from multiprocessing import Pool\n",
    "\n",
    "import dynesty\n",
    "import pickle\n",
    "import uvlf"
   ]
  },
  {
   "cell_type": "code",
   "execution_count": 2,
   "metadata": {},
   "outputs": [],
   "source": [
    "DM='WDM'\n",
    "fs_model='DPL'\n",
    "dataset_name='B'\n",
    "z_arr=[6]\n",
    "    \n",
    "nlive=8000\n",
    "\n",
    "#priors:\n",
    "log10_ks_p1=-2.\n",
    "log10_ks_p2=1.\n",
    "\n",
    "a_s1_p1=-1.\n",
    "a_s1_p2=1.\n",
    "\n",
    "a_s2_p1=-1.\n",
    "a_s2_p2=1.\n",
    "\n",
    "\n",
    "log10_M_с_p1=8.\n",
    "log10_M_с_p2=10\n",
    "\n",
    "log10_M_t_p1=8.\n",
    "log10_M_t_p2=10\n",
    "\n",
    "mx_p1=0.5\n",
    "mx_p2=10."
   ]
  },
  {
   "cell_type": "code",
   "execution_count": 22,
   "metadata": {},
   "outputs": [],
   "source": [
    "ind=1\n",
    "\n",
    "if fs_model=='DPLM':\n",
    "    ind=-1\n",
    "    \n",
    "\n",
    "\n",
    "ndim=3\n",
    "\n",
    "if DM=='WDM':\n",
    "    ndim+=1\n",
    "if 'DPL' in fs_model:\n",
    "    ndim+=2\n"
   ]
  },
  {
   "cell_type": "code",
   "execution_count": null,
   "metadata": {},
   "outputs": [],
   "source": []
  },
  {
   "cell_type": "code",
   "execution_count": 23,
   "metadata": {},
   "outputs": [
    {
     "ename": "AttributeError",
     "evalue": "module 'uvlf' has no attribute 'dataset'",
     "output_type": "error",
     "traceback": [
      "\u001b[0;31m---------------------------------------------------------------------------\u001b[0m",
      "\u001b[0;31mAttributeError\u001b[0m                            Traceback (most recent call last)",
      "\u001b[0;32m<ipython-input-23-d681b06a0616>\u001b[0m in \u001b[0;36m<module>\u001b[0;34m\u001b[0m\n\u001b[0;32m----> 1\u001b[0;31m \u001b[0mLF_data\u001b[0m\u001b[0;34m=\u001b[0m\u001b[0muvlf\u001b[0m\u001b[0;34m.\u001b[0m\u001b[0mdataset\u001b[0m\u001b[0;34m(\u001b[0m\u001b[0mdataset_name\u001b[0m\u001b[0;34m,\u001b[0m\u001b[0mz_arr\u001b[0m\u001b[0;34m)\u001b[0m\u001b[0;34m\u001b[0m\u001b[0;34m\u001b[0m\u001b[0m\n\u001b[0m",
      "\u001b[0;31mAttributeError\u001b[0m: module 'uvlf' has no attribute 'dataset'"
     ]
    }
   ],
   "source": [
    "LF_data=uvlf.dataset(dataset_name,z_arr)"
   ]
  },
  {
   "cell_type": "code",
   "execution_count": 4,
   "metadata": {},
   "outputs": [],
   "source": [
    "const=0\n",
    "for z,lf in LF_data.items():\n",
    "        x=lf[0]\n",
    "        y=lf[1]\n",
    "        yerr_down=lf[3]\n",
    "        yerr_up=lf[2]\n",
    "        const+=-0.5*len(y)*np.log((np.pi/2))-sum(np.log(yerr_down+yerr_up))"
   ]
  },
  {
   "cell_type": "code",
   "execution_count": 11,
   "metadata": {},
   "outputs": [],
   "source": [
    "def chi2(y_pred,y, yerr_up, yerr_down):\n",
    "        \n",
    "    return np.sum(np.heaviside(y_pred-y,0)*((y_pred-y)/yerr_up)**2+np.heaviside(y-y_pred,0)*((y_pred-y)/yerr_down)**2)\n",
    "\n",
    "def lnlike(theta):\n",
    "        \n",
    "    log10_ks,a_s1,a_s2,log10_M_с,log10_M_t,mx = theta\n",
    "    M_t=10**log10_M_t\n",
    "    M_с=10**log10_M_с\n",
    "    ks=10**log10_ks\n",
    "    chi2_sum=0\n",
    "    for z,lf in LF_data.items():\n",
    "        x=lf[0]\n",
    "        y=lf[1]\n",
    "        yerr_down=lf[3]\n",
    "        yerr_up=lf[2]\n",
    "        \n",
    "        \n",
    "        \n",
    "        M_UV_Model, phi_Model = uvlf.compute_LF(z=z, ks=ks,a_s1=a_s1, a_s2=a_s2,M_с=M_с,M_t=M_t,DM=DM,mx=mx, ind=ind)\n",
    "    \n",
    "        y_pred = np.interp( x, M_UV_Model[::-1], np.log10(phi_Model)[::-1] )\n",
    "        chi2_sum+=chi2(y_pred,y,yerr_up,yerr_down)\n",
    "        \n",
    "    return -0.5*chi2_sum+const"
   ]
  },
  {
   "cell_type": "code",
   "execution_count": 12,
   "metadata": {},
   "outputs": [],
   "source": [
    "def ptform(u):\n",
    "    x=np.array(u)\n",
    "    x[0]=u[0]*(log10_ks_p2-log10_ks_p1)+log10_ks_p1\n",
    "    x[1]=u[1]*(a_s1_p2-a_s1_p1)+a_s1_p1\n",
    "    x[2]=u[2]*(a_s2_p2-a_s2_p1)+a_s2_p1\n",
    "    x[3]=u[3]*(log10_M_с_p2-log10_M_с_p1)+log10_M_с_p1\n",
    "\n",
    "    x[4]=u[4]*(log10_M_t_p2-log10_M_t_p1)+log10_M_t_p1\n",
    "    \n",
    "    x[5]=u[5]*(mx_p2-mx_p1)+mx_p1\n",
    "    return x"
   ]
  },
  {
   "cell_type": "code",
   "execution_count": 13,
   "metadata": {},
   "outputs": [],
   "source": [
    "with Pool(processes=processes) as pool:\n",
    "    dsampler = dynesty.DynamicNestedSampler(lnlike, ptform, ndim, pool=pool, queue_size=processes,nlive=nlive)\n",
    "    dsampler.run_nested(print_progress=True)\n",
    "dresults = dsampler.results"
   ]
  },
  {
   "cell_type": "code",
   "execution_count": 13,
   "metadata": {},
   "outputs": [
    {
     "name": "stderr",
     "output_type": "stream",
     "text": [
      "128it [00:48,  2.62it/s, batch: 0 | bound: 0 | nc: 2 | ncall: 144 | eff(%): 19.876 | loglstar:   -inf < -7535.910 <    inf | logz: -7543.074 +/-  0.169 | dlogz: 7638.813 >  0.010]    "
     ]
    },
    {
     "name": "stdout",
     "output_type": "stream",
     "text": [
      "Exception while calling loglikelihood function:Exception while calling loglikelihood function:Exception while calling loglikelihood function:Exception while calling loglikelihood function:Exception while calling loglikelihood function:Exception while calling loglikelihood function:Exception while calling loglikelihood function:\n",
      "\n",
      "\n",
      "\n",
      "\n",
      "  params:\n",
      "Exception while calling loglikelihood function:  params:\n",
      "  params:  params:   params:   params:  \n",
      "[-1.16908006  0.6279313   0.68584284  8.56995238  8.39304549  8.0292867 ]  params:  [-0.40347566 -0.26518129  0.06399561  8.945831    9.52150467  4.78611204]  params:\n",
      "[-1.42410347 -0.06078654  0.67630501  9.60552825  9.81577124  5.2836742 ][ 0.72219336  0.27410411 -0.851566    8.16854109  8.53695431  5.57914468]  args:[-0.08458632  0.47143781 -0.35720534  8.73274327  8.66379275  2.27408736]  \n",
      "\n",
      " \n",
      "[-1.73299106  0.31982871  0.14495813  8.963979    9.13507373  9.29134421]\n",
      "[-0.45970629  0.22474682 -0.32148645  8.82574354  9.48125283  4.59276394][ 0.40367297  0.77818276 -0.93421738  9.62757018  9.69300835  8.35927749]  args:\n",
      "  args:  args: \n",
      "[]  args:   args:[]\n",
      "  args:\n",
      "[] \n",
      "     kwargs:[]  args:[]\n",
      "  kwargs: [][]\n",
      "  kwargs: {}{} \n",
      "\n",
      "\n",
      "  kwargs: \n",
      "  kwargs:[]\n",
      "   kwargs:   exception:  kwargs:{}\n",
      "  exception: \n",
      "  kwargs:{}{}  \n",
      "{}\n",
      "\n",
      "\n"
     ]
    },
    {
     "name": "stderr",
     "output_type": "stream",
     "text": [
      "Traceback (most recent call last):\n"
     ]
    },
    {
     "name": "stdout",
     "output_type": "stream",
     "text": [
      "{}{}\n",
      "  exception:\n",
      "\n"
     ]
    },
    {
     "name": "stderr",
     "output_type": "stream",
     "text": [
      "Traceback (most recent call last):\n",
      "  File \"/home/homo_novus/anaconda3/lib/python3.7/site-packages/dynesty/dynesty.py\", line 939, in __call__\n",
      "    return self.func(x, *self.args, **self.kwargs)\n"
     ]
    },
    {
     "name": "stdout",
     "output_type": "stream",
     "text": [
      "  exception:  exception:  exception:"
     ]
    },
    {
     "name": "stderr",
     "output_type": "stream",
     "text": [
      "  File \"/home/homo_novus/anaconda3/lib/python3.7/site-packages/dynesty/dynesty.py\", line 939, in __call__\n",
      "    return self.func(x, *self.args, **self.kwargs)\n"
     ]
    },
    {
     "name": "stdout",
     "output_type": "stream",
     "text": [
      "\n"
     ]
    },
    {
     "name": "stderr",
     "output_type": "stream",
     "text": [
      "  File \"<ipython-input-11-888c4d08e3ba>\", line 21, in lnlike\n",
      "    M_UV_Model, phi_Model = uvlf.compute_LF(z=z, ks=ks,a_s1=a_s1, a_s2=a_s2,M_th=M_th,M_t=M_t,DM=DM,mx=mx, ind=ind)\n",
      "  File \"<ipython-input-11-888c4d08e3ba>\", line 21, in lnlike\n",
      "    M_UV_Model, phi_Model = uvlf.compute_LF(z=z, ks=ks,a_s1=a_s1, a_s2=a_s2,M_th=M_th,M_t=M_t,DM=DM,mx=mx, ind=ind)\n",
      "Traceback (most recent call last):\n"
     ]
    },
    {
     "name": "stdout",
     "output_type": "stream",
     "text": [
      "\n",
      "\n"
     ]
    },
    {
     "name": "stderr",
     "output_type": "stream",
     "text": [
      "  File \"/home/homo_novus/UVLF_analysis/mcmc_DPL_rev/Samples+Bayes_factor/uvlf.py\", line 75, in compute_LF\n",
      "    M_h, HMF = halos_mass_function( z=z, function_name=HMF_name,DM=DM,mx=mx )\n"
     ]
    },
    {
     "name": "stdout",
     "output_type": "stream",
     "text": [
      "  exception:"
     ]
    },
    {
     "name": "stderr",
     "output_type": "stream",
     "text": [
      "  File \"/home/homo_novus/anaconda3/lib/python3.7/site-packages/dynesty/dynesty.py\", line 939, in __call__\n",
      "    return self.func(x, *self.args, **self.kwargs)\n"
     ]
    },
    {
     "name": "stdout",
     "output_type": "stream",
     "text": [
      "\n"
     ]
    },
    {
     "name": "stderr",
     "output_type": "stream",
     "text": [
      "Traceback (most recent call last):\n"
     ]
    },
    {
     "name": "stdout",
     "output_type": "stream",
     "text": [
      "  exception:"
     ]
    },
    {
     "name": "stderr",
     "output_type": "stream",
     "text": [
      "  File \"/home/homo_novus/UVLF_analysis/mcmc_DPL_rev/Samples+Bayes_factor/uvlf.py\", line 75, in compute_LF\n",
      "    M_h, HMF = halos_mass_function( z=z, function_name=HMF_name,DM=DM,mx=mx )\n",
      "  File \"<ipython-input-11-888c4d08e3ba>\", line 21, in lnlike\n",
      "    M_UV_Model, phi_Model = uvlf.compute_LF(z=z, ks=ks,a_s1=a_s1, a_s2=a_s2,M_th=M_th,M_t=M_t,DM=DM,mx=mx, ind=ind)\n",
      "Traceback (most recent call last):\n",
      "  File \"/home/homo_novus/UVLF_analysis/mcmc_DPL_rev/Samples+Bayes_factor/uvlf.py\", line 62, in halos_mass_function\n",
      "    HMF = mass_function.dndm * h**4\n",
      "  File \"/home/homo_novus/UVLF_analysis/mcmc_DPL_rev/Samples+Bayes_factor/uvlf.py\", line 75, in compute_LF\n",
      "    M_h, HMF = halos_mass_function( z=z, function_name=HMF_name,DM=DM,mx=mx )\n",
      "  File \"/home/homo_novus/anaconda3/lib/python3.7/site-packages/dynesty/dynesty.py\", line 939, in __call__\n",
      "    return self.func(x, *self.args, **self.kwargs)\n",
      "  File \"/home/homo_novus/anaconda3/lib/python3.7/site-packages/dynesty/dynesty.py\", line 939, in __call__\n",
      "    return self.func(x, *self.args, **self.kwargs)\n"
     ]
    },
    {
     "name": "stdout",
     "output_type": "stream",
     "text": [
      "\n",
      "\n"
     ]
    },
    {
     "name": "stderr",
     "output_type": "stream",
     "text": [
      "  File \"/home/homo_novus/UVLF_analysis/mcmc_DPL_rev/Samples+Bayes_factor/uvlf.py\", line 62, in halos_mass_function\n",
      "    HMF = mass_function.dndm * h**4\n",
      "Traceback (most recent call last):\n",
      "  File \"/home/homo_novus/anaconda3/lib/python3.7/site-packages/hmf/_internals/_cache.py\", line 113, in _get_property\n",
      "    value = f(self)\n",
      "  File \"<ipython-input-11-888c4d08e3ba>\", line 21, in lnlike\n",
      "    M_UV_Model, phi_Model = uvlf.compute_LF(z=z, ks=ks,a_s1=a_s1, a_s2=a_s2,M_th=M_th,M_t=M_t,DM=DM,mx=mx, ind=ind)\n",
      "\n"
     ]
    },
    {
     "ename": "KeyboardInterrupt",
     "evalue": "",
     "output_type": "error",
     "traceback": [
      "\u001b[0;31m---------------------------------------------------------------------------\u001b[0m",
      "\u001b[0;31mKeyboardInterrupt\u001b[0m                         Traceback (most recent call last)",
      "\u001b[0;32m<ipython-input-13-ca476bc582a0>\u001b[0m in \u001b[0;36m<module>\u001b[0;34m\u001b[0m\n\u001b[1;32m      4\u001b[0m \u001b[0;32mwith\u001b[0m \u001b[0mPool\u001b[0m\u001b[0;34m(\u001b[0m\u001b[0mprocesses\u001b[0m\u001b[0;34m=\u001b[0m\u001b[0mprocesses\u001b[0m\u001b[0;34m)\u001b[0m \u001b[0;32mas\u001b[0m \u001b[0mpool\u001b[0m\u001b[0;34m:\u001b[0m\u001b[0;34m\u001b[0m\u001b[0;34m\u001b[0m\u001b[0m\n\u001b[1;32m      5\u001b[0m     \u001b[0mdsampler\u001b[0m \u001b[0;34m=\u001b[0m \u001b[0mdynesty\u001b[0m\u001b[0;34m.\u001b[0m\u001b[0mDynamicNestedSampler\u001b[0m\u001b[0;34m(\u001b[0m\u001b[0mlnlike\u001b[0m\u001b[0;34m,\u001b[0m \u001b[0mptform\u001b[0m\u001b[0;34m,\u001b[0m \u001b[0mndim\u001b[0m\u001b[0;34m,\u001b[0m \u001b[0mpool\u001b[0m\u001b[0;34m=\u001b[0m\u001b[0mpool\u001b[0m\u001b[0;34m,\u001b[0m \u001b[0mqueue_size\u001b[0m\u001b[0;34m=\u001b[0m\u001b[0mprocesses\u001b[0m\u001b[0;34m,\u001b[0m\u001b[0mnlive\u001b[0m\u001b[0;34m=\u001b[0m\u001b[0;36m4000\u001b[0m\u001b[0;34m)\u001b[0m\u001b[0;34m\u001b[0m\u001b[0;34m\u001b[0m\u001b[0m\n\u001b[0;32m----> 6\u001b[0;31m     \u001b[0mdsampler\u001b[0m\u001b[0;34m.\u001b[0m\u001b[0mrun_nested\u001b[0m\u001b[0;34m(\u001b[0m\u001b[0mprint_progress\u001b[0m\u001b[0;34m=\u001b[0m\u001b[0;32mTrue\u001b[0m\u001b[0;34m)\u001b[0m\u001b[0;34m\u001b[0m\u001b[0;34m\u001b[0m\u001b[0m\n\u001b[0m\u001b[1;32m      7\u001b[0m \u001b[0mdresults\u001b[0m \u001b[0;34m=\u001b[0m \u001b[0mdsampler\u001b[0m\u001b[0;34m.\u001b[0m\u001b[0mresults\u001b[0m\u001b[0;34m\u001b[0m\u001b[0;34m\u001b[0m\u001b[0m\n",
      "\u001b[0;32m~/anaconda3/lib/python3.7/site-packages/dynesty/dynamicsampler.py\u001b[0m in \u001b[0;36mrun_nested\u001b[0;34m(self, nlive_init, maxiter_init, maxcall_init, dlogz_init, logl_max_init, n_effective_init, nlive_batch, wt_function, wt_kwargs, maxiter_batch, maxcall_batch, maxiter, maxcall, maxbatch, n_effective, stop_function, stop_kwargs, use_stop, save_bounds, print_progress, print_func, live_points)\u001b[0m\n\u001b[1;32m   1623\u001b[0m                                                    \u001b[0mlogl_max\u001b[0m\u001b[0;34m=\u001b[0m\u001b[0mlogl_max_init\u001b[0m\u001b[0;34m,\u001b[0m\u001b[0;34m\u001b[0m\u001b[0;34m\u001b[0m\u001b[0m\n\u001b[1;32m   1624\u001b[0m                                                    \u001b[0mn_effective\u001b[0m\u001b[0;34m=\u001b[0m\u001b[0mn_effective_init\u001b[0m\u001b[0;34m,\u001b[0m\u001b[0;34m\u001b[0m\u001b[0;34m\u001b[0m\u001b[0m\n\u001b[0;32m-> 1625\u001b[0;31m                                                    live_points=live_points):\n\u001b[0m\u001b[1;32m   1626\u001b[0m                     (worst, ustar, vstar, loglstar, logvol,\n\u001b[1;32m   1627\u001b[0m                      \u001b[0mlogwt\u001b[0m\u001b[0;34m,\u001b[0m \u001b[0mlogz\u001b[0m\u001b[0;34m,\u001b[0m \u001b[0mlogzvar\u001b[0m\u001b[0;34m,\u001b[0m \u001b[0mh\u001b[0m\u001b[0;34m,\u001b[0m \u001b[0mnc\u001b[0m\u001b[0;34m,\u001b[0m \u001b[0mworst_it\u001b[0m\u001b[0;34m,\u001b[0m\u001b[0;34m\u001b[0m\u001b[0;34m\u001b[0m\u001b[0m\n",
      "\u001b[0;32m~/anaconda3/lib/python3.7/site-packages/dynesty/dynamicsampler.py\u001b[0m in \u001b[0;36msample_initial\u001b[0;34m(self, nlive, update_interval, first_update, maxiter, maxcall, logl_max, dlogz, n_effective, live_points)\u001b[0m\n\u001b[1;32m    839\u001b[0m                                          \u001b[0msave_samples\u001b[0m\u001b[0;34m=\u001b[0m\u001b[0;32mFalse\u001b[0m\u001b[0;34m,\u001b[0m\u001b[0;34m\u001b[0m\u001b[0;34m\u001b[0m\u001b[0m\n\u001b[1;32m    840\u001b[0m                                          \u001b[0mmaxcall\u001b[0m\u001b[0;34m=\u001b[0m\u001b[0mmaxcall\u001b[0m\u001b[0;34m,\u001b[0m \u001b[0mdlogz\u001b[0m\u001b[0;34m=\u001b[0m\u001b[0mdlogz\u001b[0m\u001b[0;34m,\u001b[0m\u001b[0;34m\u001b[0m\u001b[0;34m\u001b[0m\u001b[0m\n\u001b[0;32m--> 841\u001b[0;31m                                          n_effective=n_effective)):\n\u001b[0m\u001b[1;32m    842\u001b[0m                 \u001b[0;31m# Grab results.\u001b[0m\u001b[0;34m\u001b[0m\u001b[0;34m\u001b[0m\u001b[0;34m\u001b[0m\u001b[0m\n\u001b[1;32m    843\u001b[0m                 (worst, ustar, vstar, loglstar, logvol, logwt,\n",
      "\u001b[0;32m~/anaconda3/lib/python3.7/site-packages/dynesty/sampler.py\u001b[0m in \u001b[0;36msample\u001b[0;34m(self, maxiter, maxcall, dlogz, logl_max, n_effective, add_live, save_bounds, save_samples)\u001b[0m\n\u001b[1;32m    780\u001b[0m             \u001b[0;31m# `logl > loglstar` using the bounding distribution and sampling\u001b[0m\u001b[0;34m\u001b[0m\u001b[0;34m\u001b[0m\u001b[0;34m\u001b[0m\u001b[0m\n\u001b[1;32m    781\u001b[0m             \u001b[0;31m# method from our sampler.\u001b[0m\u001b[0;34m\u001b[0m\u001b[0;34m\u001b[0m\u001b[0;34m\u001b[0m\u001b[0m\n\u001b[0;32m--> 782\u001b[0;31m             \u001b[0mu\u001b[0m\u001b[0;34m,\u001b[0m \u001b[0mv\u001b[0m\u001b[0;34m,\u001b[0m \u001b[0mlogl\u001b[0m\u001b[0;34m,\u001b[0m \u001b[0mnc\u001b[0m \u001b[0;34m=\u001b[0m \u001b[0mself\u001b[0m\u001b[0;34m.\u001b[0m\u001b[0m_new_point\u001b[0m\u001b[0;34m(\u001b[0m\u001b[0mloglstar_new\u001b[0m\u001b[0;34m,\u001b[0m \u001b[0mlogvol\u001b[0m\u001b[0;34m)\u001b[0m\u001b[0;34m\u001b[0m\u001b[0;34m\u001b[0m\u001b[0m\n\u001b[0m\u001b[1;32m    783\u001b[0m             \u001b[0mncall\u001b[0m \u001b[0;34m+=\u001b[0m \u001b[0mnc\u001b[0m\u001b[0;34m\u001b[0m\u001b[0;34m\u001b[0m\u001b[0m\n\u001b[1;32m    784\u001b[0m             \u001b[0mself\u001b[0m\u001b[0;34m.\u001b[0m\u001b[0mncall\u001b[0m \u001b[0;34m+=\u001b[0m \u001b[0mnc\u001b[0m\u001b[0;34m\u001b[0m\u001b[0;34m\u001b[0m\u001b[0m\n",
      "\u001b[0;32m~/anaconda3/lib/python3.7/site-packages/dynesty/sampler.py\u001b[0m in \u001b[0;36m_new_point\u001b[0;34m(self, loglstar, logvol)\u001b[0m\n\u001b[1;32m    378\u001b[0m         \u001b[0;32mwhile\u001b[0m \u001b[0;32mTrue\u001b[0m\u001b[0;34m:\u001b[0m\u001b[0;34m\u001b[0m\u001b[0;34m\u001b[0m\u001b[0m\n\u001b[1;32m    379\u001b[0m             \u001b[0;31m# Get the next point from the queue\u001b[0m\u001b[0;34m\u001b[0m\u001b[0;34m\u001b[0m\u001b[0;34m\u001b[0m\u001b[0m\n\u001b[0;32m--> 380\u001b[0;31m             \u001b[0mu\u001b[0m\u001b[0;34m,\u001b[0m \u001b[0mv\u001b[0m\u001b[0;34m,\u001b[0m \u001b[0mlogl\u001b[0m\u001b[0;34m,\u001b[0m \u001b[0mnc\u001b[0m\u001b[0;34m,\u001b[0m \u001b[0mblob\u001b[0m \u001b[0;34m=\u001b[0m \u001b[0mself\u001b[0m\u001b[0;34m.\u001b[0m\u001b[0m_get_point_value\u001b[0m\u001b[0;34m(\u001b[0m\u001b[0mloglstar\u001b[0m\u001b[0;34m)\u001b[0m\u001b[0;34m\u001b[0m\u001b[0;34m\u001b[0m\u001b[0m\n\u001b[0m\u001b[1;32m    381\u001b[0m             \u001b[0mncall\u001b[0m \u001b[0;34m+=\u001b[0m \u001b[0mnc\u001b[0m\u001b[0;34m\u001b[0m\u001b[0;34m\u001b[0m\u001b[0m\n\u001b[1;32m    382\u001b[0m \u001b[0;34m\u001b[0m\u001b[0m\n",
      "\u001b[0;32m~/anaconda3/lib/python3.7/site-packages/dynesty/sampler.py\u001b[0m in \u001b[0;36m_get_point_value\u001b[0;34m(self, loglstar)\u001b[0m\n\u001b[1;32m    362\u001b[0m         \u001b[0;31m# If the queue is empty, refill it.\u001b[0m\u001b[0;34m\u001b[0m\u001b[0;34m\u001b[0m\u001b[0;34m\u001b[0m\u001b[0m\n\u001b[1;32m    363\u001b[0m         \u001b[0;32mif\u001b[0m \u001b[0mself\u001b[0m\u001b[0;34m.\u001b[0m\u001b[0mnqueue\u001b[0m \u001b[0;34m<=\u001b[0m \u001b[0;36m0\u001b[0m\u001b[0;34m:\u001b[0m\u001b[0;34m\u001b[0m\u001b[0;34m\u001b[0m\u001b[0m\n\u001b[0;32m--> 364\u001b[0;31m             \u001b[0mself\u001b[0m\u001b[0;34m.\u001b[0m\u001b[0m_fill_queue\u001b[0m\u001b[0;34m(\u001b[0m\u001b[0mloglstar\u001b[0m\u001b[0;34m)\u001b[0m\u001b[0;34m\u001b[0m\u001b[0;34m\u001b[0m\u001b[0m\n\u001b[0m\u001b[1;32m    365\u001b[0m \u001b[0;34m\u001b[0m\u001b[0m\n\u001b[1;32m    366\u001b[0m         \u001b[0;31m# Grab the earliest entry.\u001b[0m\u001b[0;34m\u001b[0m\u001b[0;34m\u001b[0m\u001b[0;34m\u001b[0m\u001b[0m\n",
      "\u001b[0;32m~/anaconda3/lib/python3.7/site-packages/dynesty/sampler.py\u001b[0m in \u001b[0;36m_fill_queue\u001b[0;34m(self, loglstar)\u001b[0m\n\u001b[1;32m    351\u001b[0m         \u001b[0;32mif\u001b[0m \u001b[0mself\u001b[0m\u001b[0;34m.\u001b[0m\u001b[0muse_pool_evolve\u001b[0m\u001b[0;34m:\u001b[0m\u001b[0;34m\u001b[0m\u001b[0;34m\u001b[0m\u001b[0m\n\u001b[1;32m    352\u001b[0m             \u001b[0;31m# Use the pool to propose (\"evolve\") a new live point.\u001b[0m\u001b[0;34m\u001b[0m\u001b[0;34m\u001b[0m\u001b[0;34m\u001b[0m\u001b[0m\n\u001b[0;32m--> 353\u001b[0;31m             \u001b[0mself\u001b[0m\u001b[0;34m.\u001b[0m\u001b[0mqueue\u001b[0m \u001b[0;34m=\u001b[0m \u001b[0mlist\u001b[0m\u001b[0;34m(\u001b[0m\u001b[0mself\u001b[0m\u001b[0;34m.\u001b[0m\u001b[0mM\u001b[0m\u001b[0;34m(\u001b[0m\u001b[0mevolve_point\u001b[0m\u001b[0;34m,\u001b[0m \u001b[0margs\u001b[0m\u001b[0;34m)\u001b[0m\u001b[0;34m)\u001b[0m\u001b[0;34m\u001b[0m\u001b[0;34m\u001b[0m\u001b[0m\n\u001b[0m\u001b[1;32m    354\u001b[0m         \u001b[0;32melse\u001b[0m\u001b[0;34m:\u001b[0m\u001b[0;34m\u001b[0m\u001b[0;34m\u001b[0m\u001b[0m\n\u001b[1;32m    355\u001b[0m             \u001b[0;31m# Propose (\"evolve\") a new live point using the default `map`\u001b[0m\u001b[0;34m\u001b[0m\u001b[0;34m\u001b[0m\u001b[0;34m\u001b[0m\u001b[0m\n",
      "\u001b[0;32m~/anaconda3/lib/python3.7/multiprocessing/pool.py\u001b[0m in \u001b[0;36mmap\u001b[0;34m(self, func, iterable, chunksize)\u001b[0m\n\u001b[1;32m    266\u001b[0m         \u001b[0;32min\u001b[0m \u001b[0ma\u001b[0m \u001b[0mlist\u001b[0m \u001b[0mthat\u001b[0m \u001b[0;32mis\u001b[0m \u001b[0mreturned\u001b[0m\u001b[0;34m.\u001b[0m\u001b[0;34m\u001b[0m\u001b[0;34m\u001b[0m\u001b[0m\n\u001b[1;32m    267\u001b[0m         '''\n\u001b[0;32m--> 268\u001b[0;31m         \u001b[0;32mreturn\u001b[0m \u001b[0mself\u001b[0m\u001b[0;34m.\u001b[0m\u001b[0m_map_async\u001b[0m\u001b[0;34m(\u001b[0m\u001b[0mfunc\u001b[0m\u001b[0;34m,\u001b[0m \u001b[0miterable\u001b[0m\u001b[0;34m,\u001b[0m \u001b[0mmapstar\u001b[0m\u001b[0;34m,\u001b[0m \u001b[0mchunksize\u001b[0m\u001b[0;34m)\u001b[0m\u001b[0;34m.\u001b[0m\u001b[0mget\u001b[0m\u001b[0;34m(\u001b[0m\u001b[0;34m)\u001b[0m\u001b[0;34m\u001b[0m\u001b[0;34m\u001b[0m\u001b[0m\n\u001b[0m\u001b[1;32m    269\u001b[0m \u001b[0;34m\u001b[0m\u001b[0m\n\u001b[1;32m    270\u001b[0m     \u001b[0;32mdef\u001b[0m \u001b[0mstarmap\u001b[0m\u001b[0;34m(\u001b[0m\u001b[0mself\u001b[0m\u001b[0;34m,\u001b[0m \u001b[0mfunc\u001b[0m\u001b[0;34m,\u001b[0m \u001b[0miterable\u001b[0m\u001b[0;34m,\u001b[0m \u001b[0mchunksize\u001b[0m\u001b[0;34m=\u001b[0m\u001b[0;32mNone\u001b[0m\u001b[0;34m)\u001b[0m\u001b[0;34m:\u001b[0m\u001b[0;34m\u001b[0m\u001b[0;34m\u001b[0m\u001b[0m\n",
      "\u001b[0;32m~/anaconda3/lib/python3.7/multiprocessing/pool.py\u001b[0m in \u001b[0;36mget\u001b[0;34m(self, timeout)\u001b[0m\n\u001b[1;32m    649\u001b[0m \u001b[0;34m\u001b[0m\u001b[0m\n\u001b[1;32m    650\u001b[0m     \u001b[0;32mdef\u001b[0m \u001b[0mget\u001b[0m\u001b[0;34m(\u001b[0m\u001b[0mself\u001b[0m\u001b[0;34m,\u001b[0m \u001b[0mtimeout\u001b[0m\u001b[0;34m=\u001b[0m\u001b[0;32mNone\u001b[0m\u001b[0;34m)\u001b[0m\u001b[0;34m:\u001b[0m\u001b[0;34m\u001b[0m\u001b[0;34m\u001b[0m\u001b[0m\n\u001b[0;32m--> 651\u001b[0;31m         \u001b[0mself\u001b[0m\u001b[0;34m.\u001b[0m\u001b[0mwait\u001b[0m\u001b[0;34m(\u001b[0m\u001b[0mtimeout\u001b[0m\u001b[0;34m)\u001b[0m\u001b[0;34m\u001b[0m\u001b[0;34m\u001b[0m\u001b[0m\n\u001b[0m\u001b[1;32m    652\u001b[0m         \u001b[0;32mif\u001b[0m \u001b[0;32mnot\u001b[0m \u001b[0mself\u001b[0m\u001b[0;34m.\u001b[0m\u001b[0mready\u001b[0m\u001b[0;34m(\u001b[0m\u001b[0;34m)\u001b[0m\u001b[0;34m:\u001b[0m\u001b[0;34m\u001b[0m\u001b[0;34m\u001b[0m\u001b[0m\n\u001b[1;32m    653\u001b[0m             \u001b[0;32mraise\u001b[0m \u001b[0mTimeoutError\u001b[0m\u001b[0;34m\u001b[0m\u001b[0;34m\u001b[0m\u001b[0m\n",
      "\u001b[0;32m~/anaconda3/lib/python3.7/multiprocessing/pool.py\u001b[0m in \u001b[0;36mwait\u001b[0;34m(self, timeout)\u001b[0m\n\u001b[1;32m    646\u001b[0m \u001b[0;34m\u001b[0m\u001b[0m\n\u001b[1;32m    647\u001b[0m     \u001b[0;32mdef\u001b[0m \u001b[0mwait\u001b[0m\u001b[0;34m(\u001b[0m\u001b[0mself\u001b[0m\u001b[0;34m,\u001b[0m \u001b[0mtimeout\u001b[0m\u001b[0;34m=\u001b[0m\u001b[0;32mNone\u001b[0m\u001b[0;34m)\u001b[0m\u001b[0;34m:\u001b[0m\u001b[0;34m\u001b[0m\u001b[0;34m\u001b[0m\u001b[0m\n\u001b[0;32m--> 648\u001b[0;31m         \u001b[0mself\u001b[0m\u001b[0;34m.\u001b[0m\u001b[0m_event\u001b[0m\u001b[0;34m.\u001b[0m\u001b[0mwait\u001b[0m\u001b[0;34m(\u001b[0m\u001b[0mtimeout\u001b[0m\u001b[0;34m)\u001b[0m\u001b[0;34m\u001b[0m\u001b[0;34m\u001b[0m\u001b[0m\n\u001b[0m\u001b[1;32m    649\u001b[0m \u001b[0;34m\u001b[0m\u001b[0m\n\u001b[1;32m    650\u001b[0m     \u001b[0;32mdef\u001b[0m \u001b[0mget\u001b[0m\u001b[0;34m(\u001b[0m\u001b[0mself\u001b[0m\u001b[0;34m,\u001b[0m \u001b[0mtimeout\u001b[0m\u001b[0;34m=\u001b[0m\u001b[0;32mNone\u001b[0m\u001b[0;34m)\u001b[0m\u001b[0;34m:\u001b[0m\u001b[0;34m\u001b[0m\u001b[0;34m\u001b[0m\u001b[0m\n",
      "\u001b[0;32m~/anaconda3/lib/python3.7/threading.py\u001b[0m in \u001b[0;36mwait\u001b[0;34m(self, timeout)\u001b[0m\n\u001b[1;32m    550\u001b[0m             \u001b[0msignaled\u001b[0m \u001b[0;34m=\u001b[0m \u001b[0mself\u001b[0m\u001b[0;34m.\u001b[0m\u001b[0m_flag\u001b[0m\u001b[0;34m\u001b[0m\u001b[0;34m\u001b[0m\u001b[0m\n\u001b[1;32m    551\u001b[0m             \u001b[0;32mif\u001b[0m \u001b[0;32mnot\u001b[0m \u001b[0msignaled\u001b[0m\u001b[0;34m:\u001b[0m\u001b[0;34m\u001b[0m\u001b[0;34m\u001b[0m\u001b[0m\n\u001b[0;32m--> 552\u001b[0;31m                 \u001b[0msignaled\u001b[0m \u001b[0;34m=\u001b[0m \u001b[0mself\u001b[0m\u001b[0;34m.\u001b[0m\u001b[0m_cond\u001b[0m\u001b[0;34m.\u001b[0m\u001b[0mwait\u001b[0m\u001b[0;34m(\u001b[0m\u001b[0mtimeout\u001b[0m\u001b[0;34m)\u001b[0m\u001b[0;34m\u001b[0m\u001b[0;34m\u001b[0m\u001b[0m\n\u001b[0m\u001b[1;32m    553\u001b[0m             \u001b[0;32mreturn\u001b[0m \u001b[0msignaled\u001b[0m\u001b[0;34m\u001b[0m\u001b[0;34m\u001b[0m\u001b[0m\n\u001b[1;32m    554\u001b[0m \u001b[0;34m\u001b[0m\u001b[0m\n",
      "\u001b[0;32m~/anaconda3/lib/python3.7/threading.py\u001b[0m in \u001b[0;36mwait\u001b[0;34m(self, timeout)\u001b[0m\n\u001b[1;32m    294\u001b[0m         \u001b[0;32mtry\u001b[0m\u001b[0;34m:\u001b[0m    \u001b[0;31m# restore state no matter what (e.g., KeyboardInterrupt)\u001b[0m\u001b[0;34m\u001b[0m\u001b[0;34m\u001b[0m\u001b[0m\n\u001b[1;32m    295\u001b[0m             \u001b[0;32mif\u001b[0m \u001b[0mtimeout\u001b[0m \u001b[0;32mis\u001b[0m \u001b[0;32mNone\u001b[0m\u001b[0;34m:\u001b[0m\u001b[0;34m\u001b[0m\u001b[0;34m\u001b[0m\u001b[0m\n\u001b[0;32m--> 296\u001b[0;31m                 \u001b[0mwaiter\u001b[0m\u001b[0;34m.\u001b[0m\u001b[0macquire\u001b[0m\u001b[0;34m(\u001b[0m\u001b[0;34m)\u001b[0m\u001b[0;34m\u001b[0m\u001b[0;34m\u001b[0m\u001b[0m\n\u001b[0m\u001b[1;32m    297\u001b[0m                 \u001b[0mgotit\u001b[0m \u001b[0;34m=\u001b[0m \u001b[0;32mTrue\u001b[0m\u001b[0;34m\u001b[0m\u001b[0;34m\u001b[0m\u001b[0m\n\u001b[1;32m    298\u001b[0m             \u001b[0;32melse\u001b[0m\u001b[0;34m:\u001b[0m\u001b[0;34m\u001b[0m\u001b[0;34m\u001b[0m\u001b[0m\n",
      "\u001b[0;31mKeyboardInterrupt\u001b[0m: "
     ]
    }
   ],
   "source": [
    "fout='dresults_{}_wdm_z{}_pl_nl_{}_corr.pkl'.format(dataset_name, '-'.join(str(z) for z in z_arr), nlive)\n",
    "with open(fout, 'wb') as fn:\n",
    "    pickle.dump(dresults_dyn,fn)"
   ]
  },
  {
   "cell_type": "code",
   "execution_count": null,
   "metadata": {},
   "outputs": [],
   "source": []
  }
 ],
 "metadata": {
  "kernelspec": {
   "display_name": "Python 3",
   "language": "python",
   "name": "python3"
  },
  "language_info": {
   "codemirror_mode": {
    "name": "ipython",
    "version": 3
   },
   "file_extension": ".py",
   "mimetype": "text/x-python",
   "name": "python",
   "nbconvert_exporter": "python",
   "pygments_lexer": "ipython3",
   "version": "3.7.7"
  }
 },
 "nbformat": 4,
 "nbformat_minor": 4
}
